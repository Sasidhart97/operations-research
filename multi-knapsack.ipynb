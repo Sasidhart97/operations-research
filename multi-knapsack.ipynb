{
 "cells": [
  {
   "cell_type": "code",
   "execution_count": 1,
   "id": "481a654c",
   "metadata": {},
   "outputs": [],
   "source": [
    "from ortools.linear_solver import pywraplp"
   ]
  },
  {
   "cell_type": "code",
   "execution_count": 2,
   "id": "0a92a5ba",
   "metadata": {},
   "outputs": [],
   "source": [
    "data = {}\n",
    "data['weights'] = [\n",
    "    48, 30, 42, 36, 36, 48, 42, 42, 36, 24, 30, 30, 42, 36, 36\n",
    "]\n",
    "data['values'] = [\n",
    "    10, 30, 25, 50, 35, 30, 15, 40, 30, 35, 45, 10, 20, 30, 25\n",
    "]\n",
    "assert len(data['weights']) == len(data['values'])\n",
    "data['num_items'] = len(data['weights'])\n",
    "data['all_items'] = range(data['num_items'])\n",
    "\n",
    "data['bin_capacities'] = [100, 100, 100, 100, 100]\n",
    "data['num_bins'] = len(data['bin_capacities'])\n",
    "data['all_bins'] = range(data['num_bins'])"
   ]
  },
  {
   "cell_type": "code",
   "execution_count": 3,
   "id": "0f24789a",
   "metadata": {},
   "outputs": [
    {
     "data": {
      "text/plain": [
       "{'weights': [48, 30, 42, 36, 36, 48, 42, 42, 36, 24, 30, 30, 42, 36, 36],\n",
       " 'values': [10, 30, 25, 50, 35, 30, 15, 40, 30, 35, 45, 10, 20, 30, 25],\n",
       " 'num_items': 15,\n",
       " 'all_items': range(0, 15),\n",
       " 'bin_capacities': [100, 100, 100, 100, 100],\n",
       " 'num_bins': 5,\n",
       " 'all_bins': range(0, 5)}"
      ]
     },
     "execution_count": 3,
     "metadata": {},
     "output_type": "execute_result"
    }
   ],
   "source": [
    "data"
   ]
  },
  {
   "cell_type": "code",
   "execution_count": 4,
   "id": "0656bfb2",
   "metadata": {},
   "outputs": [],
   "source": [
    "solver = pywraplp.Solver.CreateSolver('CP_SAT')\n",
    "\n",
    "x = {}\n",
    "\n",
    "for i in data['all_items']:\n",
    "    for j in data['all_bins']:\n",
    "        x[(i,j)] = solver.IntVar(0, 1, 'x_{0}_{1}'.format(i,j))"
   ]
  },
  {
   "cell_type": "code",
   "execution_count": 5,
   "id": "c4cb0131",
   "metadata": {},
   "outputs": [],
   "source": [
    "for i in data['all_items']:\n",
    "    solver.Add(sum(x[(i,j)] for j in data['all_bins']) <= 1)"
   ]
  },
  {
   "cell_type": "code",
   "execution_count": 6,
   "id": "9b0c71b5",
   "metadata": {},
   "outputs": [],
   "source": [
    "for j in data['all_bins']:\n",
    "    solver.Add(\n",
    "        sum(x[(i,j)]*data['weights'][i] \n",
    "            for i in data['all_items']) <= data[\"bin_capacities\"][j]\n",
    "    )"
   ]
  },
  {
   "cell_type": "code",
   "execution_count": 7,
   "id": "596e7d30",
   "metadata": {},
   "outputs": [],
   "source": [
    "solver.Maximize(\n",
    "    sum(x[(i,j)]*data['values'][i] \n",
    "        for i in data['all_items'] \n",
    "        for j in data['all_bins']))"
   ]
  },
  {
   "cell_type": "code",
   "execution_count": 8,
   "id": "9c7c29ef",
   "metadata": {},
   "outputs": [
    {
     "name": "stdout",
     "output_type": "stream",
     "text": [
      "0\n",
      "Optimal Found\n"
     ]
    }
   ],
   "source": [
    "results = solver.Solve()\n",
    "print(results)\n",
    "if results==pywraplp.Solver.OPTIMAL: \n",
    "    print('Optimal Found')"
   ]
  },
  {
   "cell_type": "code",
   "execution_count": 13,
   "id": "608ce3ad",
   "metadata": {},
   "outputs": [
    {
     "name": "stdout",
     "output_type": "stream",
     "text": [
      "bin -  0\n",
      "mat -  1\n",
      "1.0 30 30\n",
      "bin -  0\n",
      "mat -  10\n",
      "1.0 30 45\n",
      "bin -  0\n",
      "mat -  14\n",
      "1.0 36 25\n"
     ]
    }
   ],
   "source": [
    "for i in data['all_items']:\n",
    "    for j in data['all_bins']:\n",
    "        if(j == 0):\n",
    "            if x[i,j].solution_value():\n",
    "                print(\"bin - \", j)\n",
    "                print(\"mat - \", i)\n",
    "                print(x[i,j].solution_value(), data['weights'][i], data['values'][i])"
   ]
  },
  {
   "cell_type": "code",
   "execution_count": null,
   "id": "aac85bda",
   "metadata": {},
   "outputs": [],
   "source": []
  }
 ],
 "metadata": {
  "kernelspec": {
   "display_name": "Python 3 (ipykernel)",
   "language": "python",
   "name": "python3"
  },
  "language_info": {
   "codemirror_mode": {
    "name": "ipython",
    "version": 3
   },
   "file_extension": ".py",
   "mimetype": "text/x-python",
   "name": "python",
   "nbconvert_exporter": "python",
   "pygments_lexer": "ipython3",
   "version": "3.10.10"
  }
 },
 "nbformat": 4,
 "nbformat_minor": 5
}
