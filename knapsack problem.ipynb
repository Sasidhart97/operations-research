{
 "cells": [
  {
   "cell_type": "code",
   "execution_count": 22,
   "id": "481a654c",
   "metadata": {},
   "outputs": [],
   "source": [
    "from ortools.linear_solver import pywraplp"
   ]
  },
  {
   "cell_type": "code",
   "execution_count": 24,
   "id": "0a92a5ba",
   "metadata": {},
   "outputs": [],
   "source": [
    "values = [\n",
    "    360, 83, 59, 130, 431, 67, 230, 52, 93, 125, 670, 892, 600, 38, 48, 147,\n",
    "    78, 256, 63, 17, 120, 164, 432, 35, 92, 110, 22, 42, 50, 323, 514, 28,\n",
    "    87, 73, 78, 15, 26, 78, 210, 36, 85, 189, 274, 43, 33, 10, 19, 389, 276,\n",
    "    312\n",
    "]\n",
    "weights = [\n",
    "    7, 0, 30, 22, 80, 94, 11, 81, 70, 64, 59, 18, 0, 36, 3, 8, 15, 42, 9, 0,\n",
    "    42, 47, 52, 32, 26, 48, 55, 6, 29, 84, 2, 4, 18, 56, 7, 29, 93, 44, 71,\n",
    "    3, 86, 66, 31, 65, 0, 79, 20, 65, 52, 13\n",
    "]\n",
    "capacities = 850"
   ]
  },
  {
   "cell_type": "code",
   "execution_count": 25,
   "id": "0656bfb2",
   "metadata": {},
   "outputs": [],
   "source": [
    "solver = pywraplp.Solver.CreateSolver('CP_SAT')\n",
    "\n",
    "x = {}\n",
    "for i in range(len(values)):\n",
    "    x[i] = solver.IntVar(0, 1, \"x_%i\" %(i))"
   ]
  },
  {
   "cell_type": "code",
   "execution_count": 26,
   "id": "a9fe7551",
   "metadata": {},
   "outputs": [
    {
     "data": {
      "text/plain": [
       "<ortools.linear_solver.pywraplp.Constraint; proxy of <Swig Object of type 'operations_research::MPConstraint *' at 0x000001E3F7AB6100> >"
      ]
     },
     "execution_count": 26,
     "metadata": {},
     "output_type": "execute_result"
    }
   ],
   "source": [
    "solver.Add(sum(x[i]*weights[i] for i in range(len(weights))) <= capacities)"
   ]
  },
  {
   "cell_type": "code",
   "execution_count": 27,
   "id": "596e7d30",
   "metadata": {},
   "outputs": [],
   "source": [
    "solver.Maximize(sum(x[i]*values[i] for i in range(len(values))))"
   ]
  },
  {
   "cell_type": "code",
   "execution_count": 29,
   "id": "9c7c29ef",
   "metadata": {},
   "outputs": [
    {
     "name": "stdout",
     "output_type": "stream",
     "text": [
      "Optimal Found\n"
     ]
    }
   ],
   "source": [
    "results = solver.Solve()\n",
    "\n",
    "if results==pywraplp.Solver.OPTIMAL: print('Optimal Found')"
   ]
  },
  {
   "cell_type": "code",
   "execution_count": 30,
   "id": "608ce3ad",
   "metadata": {},
   "outputs": [
    {
     "name": "stdout",
     "output_type": "stream",
     "text": [
      "0 7 360\n",
      "1 0 83\n",
      "3 22 130\n",
      "4 80 431\n",
      "6 11 230\n",
      "10 59 670\n",
      "11 18 892\n",
      "12 0 600\n",
      "14 3 48\n",
      "15 8 147\n",
      "16 15 78\n",
      "17 42 256\n",
      "18 9 63\n",
      "19 0 17\n",
      "21 47 164\n",
      "22 52 432\n",
      "24 26 92\n",
      "27 6 42\n",
      "28 29 50\n",
      "29 84 323\n",
      "30 2 514\n",
      "31 4 28\n",
      "32 18 87\n",
      "34 7 78\n",
      "38 71 210\n",
      "39 3 36\n",
      "41 66 189\n",
      "42 31 274\n",
      "44 0 33\n",
      "47 65 389\n",
      "48 52 276\n",
      "49 13 312\n"
     ]
    }
   ],
   "source": [
    "for i in range(len(weights)):\n",
    "    if (x[i].solution_value() > 0):\n",
    "        print(i, weights[i], values[i])"
   ]
  },
  {
   "cell_type": "code",
   "execution_count": null,
   "id": "aac85bda",
   "metadata": {},
   "outputs": [],
   "source": []
  }
 ],
 "metadata": {
  "kernelspec": {
   "display_name": "Python 3 (ipykernel)",
   "language": "python",
   "name": "python3"
  },
  "language_info": {
   "codemirror_mode": {
    "name": "ipython",
    "version": 3
   },
   "file_extension": ".py",
   "mimetype": "text/x-python",
   "name": "python",
   "nbconvert_exporter": "python",
   "pygments_lexer": "ipython3",
   "version": "3.10.13"
  }
 },
 "nbformat": 4,
 "nbformat_minor": 5
}
