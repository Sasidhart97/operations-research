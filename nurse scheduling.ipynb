{
 "cells": [
  {
   "cell_type": "code",
   "execution_count": 1,
   "id": "4608f362",
   "metadata": {},
   "outputs": [],
   "source": [
    "from ortools.linear_solver import pywraplp"
   ]
  },
  {
   "cell_type": "code",
   "execution_count": 48,
   "id": "be2c92f6",
   "metadata": {},
   "outputs": [],
   "source": [
    "solver = pywraplp.Solver.CreateSolver('CP_SAT')"
   ]
  },
  {
   "cell_type": "code",
   "execution_count": 49,
   "id": "39094331",
   "metadata": {},
   "outputs": [],
   "source": [
    "nurse = 4\n",
    "days = 3\n",
    "shifts = 3"
   ]
  },
  {
   "cell_type": "code",
   "execution_count": 50,
   "id": "3981c539",
   "metadata": {},
   "outputs": [],
   "source": [
    "x = {}\n",
    "\n",
    "for n in range(nurse):\n",
    "    for d in range(days):\n",
    "        for s in range(shifts):\n",
    "            x[(n,d,s)] = solver.IntVar(0,1, 'x_{0}_{1}_{2}'.format(n,d,s))"
   ]
  },
  {
   "cell_type": "code",
   "execution_count": 52,
   "id": "62a9c0c6",
   "metadata": {},
   "outputs": [],
   "source": [
    "for d in range(days):\n",
    "    for s in range(shifts):\n",
    "        solver.Add(sum(x[(n1,d,s)] for n1 in range(nurse)) == 1)"
   ]
  },
  {
   "cell_type": "code",
   "execution_count": 53,
   "id": "204f6e5b",
   "metadata": {},
   "outputs": [],
   "source": [
    "for n in range(nurse):\n",
    "    for d in range(days):\n",
    "        solver.Add(sum(x[(n,d,s1)] for s1 in range(shifts)) <= 1)"
   ]
  },
  {
   "cell_type": "code",
   "execution_count": 54,
   "id": "10786de2",
   "metadata": {},
   "outputs": [],
   "source": [
    "for n in range(nurse):\n",
    "    \n",
    "    solver.Add(sum(x[(n,d1,s1)] for d1 in range(days) for s1 in range(shifts)) >= 2)"
   ]
  },
  {
   "cell_type": "code",
   "execution_count": 55,
   "id": "6c285284",
   "metadata": {},
   "outputs": [
    {
     "data": {
      "text/plain": [
       "0"
      ]
     },
     "execution_count": 55,
     "metadata": {},
     "output_type": "execute_result"
    }
   ],
   "source": [
    "solver.Solve()"
   ]
  },
  {
   "cell_type": "code",
   "execution_count": 56,
   "id": "6ac969bb",
   "metadata": {},
   "outputs": [
    {
     "name": "stdout",
     "output_type": "stream",
     "text": [
      "0\n",
      "Optimal Found\n"
     ]
    }
   ],
   "source": [
    "results = solver.Solve()\n",
    "print(results)\n",
    "if results==pywraplp.Solver.OPTIMAL: \n",
    "    print('Optimal Found')"
   ]
  },
  {
   "cell_type": "code",
   "execution_count": 57,
   "id": "ccbb8e6e",
   "metadata": {},
   "outputs": [
    {
     "name": "stdout",
     "output_type": "stream",
     "text": [
      "nurse -  0 day -  0 shift -  2\n",
      "nurse -  0 day -  1 shift -  1\n",
      "nurse -  1 day -  0 shift -  1\n",
      "nurse -  1 day -  1 shift -  0\n",
      "nurse -  1 day -  2 shift -  1\n",
      "nurse -  2 day -  1 shift -  2\n",
      "nurse -  2 day -  2 shift -  0\n",
      "nurse -  3 day -  0 shift -  0\n",
      "nurse -  3 day -  2 shift -  2\n"
     ]
    }
   ],
   "source": [
    "for n in range(nurse):\n",
    "    for d in range(days):\n",
    "        for s in range(shifts):\n",
    "            if(x[(n,d,s)].solution_value()):\n",
    "                print(\"nurse - \", n,\"day - \", d, \"shift - \", s)"
   ]
  },
  {
   "cell_type": "code",
   "execution_count": null,
   "id": "2efeefa0",
   "metadata": {},
   "outputs": [],
   "source": []
  }
 ],
 "metadata": {
  "kernelspec": {
   "display_name": "Python 3 (ipykernel)",
   "language": "python",
   "name": "python3"
  },
  "language_info": {
   "codemirror_mode": {
    "name": "ipython",
    "version": 3
   },
   "file_extension": ".py",
   "mimetype": "text/x-python",
   "name": "python",
   "nbconvert_exporter": "python",
   "pygments_lexer": "ipython3",
   "version": "3.10.13"
  }
 },
 "nbformat": 4,
 "nbformat_minor": 5
}
