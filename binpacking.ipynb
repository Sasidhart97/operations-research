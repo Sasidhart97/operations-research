{
 "cells": [
  {
   "cell_type": "code",
   "execution_count": 69,
   "id": "481a654c",
   "metadata": {},
   "outputs": [],
   "source": [
    "from ortools.linear_solver import pywraplp"
   ]
  },
  {
   "cell_type": "code",
   "execution_count": 80,
   "id": "0a92a5ba",
   "metadata": {},
   "outputs": [],
   "source": [
    "data = {}\n",
    "weights = [48, 30, 19, 36, 36, 27, 42, 42, 36, 24, 30]\n",
    "data['weights'] = weights\n",
    "data['items'] = list(range(len(weights)))\n",
    "data['bins'] = data['items']\n",
    "data['bin_capacity'] = 100"
   ]
  },
  {
   "cell_type": "code",
   "execution_count": 81,
   "id": "0f24789a",
   "metadata": {},
   "outputs": [
    {
     "data": {
      "text/plain": [
       "{'weights': [48, 30, 19, 36, 36, 27, 42, 42, 36, 24, 30],\n",
       " 'items': [0, 1, 2, 3, 4, 5, 6, 7, 8, 9, 10],\n",
       " 'bins': [0, 1, 2, 3, 4, 5, 6, 7, 8, 9, 10],\n",
       " 'bin_capacity': 100}"
      ]
     },
     "execution_count": 81,
     "metadata": {},
     "output_type": "execute_result"
    }
   ],
   "source": [
    "data"
   ]
  },
  {
   "cell_type": "code",
   "execution_count": 82,
   "id": "0656bfb2",
   "metadata": {},
   "outputs": [],
   "source": [
    "solver = pywraplp.Solver.CreateSolver('CP_SAT')\n",
    "\n",
    "x = {}\n",
    "\n",
    "for i in range(len(data['weights'])):\n",
    "    for j in range(len(data['bins'])):\n",
    "        x[(i,j)] = solver.IntVar(0, 1, 'x_{0}_{1}'.format(i,j))"
   ]
  },
  {
   "cell_type": "code",
   "execution_count": 83,
   "id": "9ce555b9",
   "metadata": {},
   "outputs": [],
   "source": [
    "y = {}\n",
    "for j in range(len(data['bins'])):\n",
    "    y[j] = solver.IntVar(0, 1, 'y_{0}'.format(j))"
   ]
  },
  {
   "cell_type": "code",
   "execution_count": 84,
   "id": "c4cb0131",
   "metadata": {},
   "outputs": [],
   "source": [
    "for i in data['items']:\n",
    "    solver.Add(sum(x[(i,j)] for j in data['bins']) == 1)"
   ]
  },
  {
   "cell_type": "code",
   "execution_count": 85,
   "id": "9b0c71b5",
   "metadata": {},
   "outputs": [],
   "source": [
    "for j in data['bins']:\n",
    "    solver.Add(\n",
    "        sum(x[(i,j)]*data['weights'][i] \n",
    "            for i in data['items']) <= y[j]*data[\"bin_capacity\"]\n",
    "    )"
   ]
  },
  {
   "cell_type": "code",
   "execution_count": 86,
   "id": "596e7d30",
   "metadata": {},
   "outputs": [],
   "source": [
    "solver.Minimize(sum(y[j] for j in data['bins']))"
   ]
  },
  {
   "cell_type": "code",
   "execution_count": 87,
   "id": "9c7c29ef",
   "metadata": {},
   "outputs": [
    {
     "name": "stdout",
     "output_type": "stream",
     "text": [
      "0\n",
      "Optimal Found\n"
     ]
    }
   ],
   "source": [
    "results = solver.Solve()\n",
    "print(results)\n",
    "if results==pywraplp.Solver.OPTIMAL: \n",
    "    print('Optimal Found')"
   ]
  },
  {
   "cell_type": "code",
   "execution_count": 88,
   "id": "608ce3ad",
   "metadata": {},
   "outputs": [
    {
     "name": "stdout",
     "output_type": "stream",
     "text": [
      "0\n",
      "1\n",
      "9\n",
      "10\n"
     ]
    }
   ],
   "source": [
    "for j in data['bins']:\n",
    "    if y[j].solution_value():\n",
    "        print(j)\n",
    "            #print(data['weights'][i])"
   ]
  },
  {
   "cell_type": "code",
   "execution_count": null,
   "id": "c5b0cfb3",
   "metadata": {},
   "outputs": [],
   "source": []
  }
 ],
 "metadata": {
  "kernelspec": {
   "display_name": "Python 3 (ipykernel)",
   "language": "python",
   "name": "python3"
  },
  "language_info": {
   "codemirror_mode": {
    "name": "ipython",
    "version": 3
   },
   "file_extension": ".py",
   "mimetype": "text/x-python",
   "name": "python",
   "nbconvert_exporter": "python",
   "pygments_lexer": "ipython3",
   "version": "3.10.13"
  }
 },
 "nbformat": 4,
 "nbformat_minor": 5
}
