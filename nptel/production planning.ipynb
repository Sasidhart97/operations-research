{
 "cells": [
  {
   "cell_type": "code",
   "execution_count": 1,
   "id": "fa6c7153",
   "metadata": {},
   "outputs": [],
   "source": [
    "from ortools.linear_solver import pywraplp"
   ]
  },
  {
   "cell_type": "code",
   "execution_count": 16,
   "id": "909e129b",
   "metadata": {},
   "outputs": [],
   "source": [
    "solver = pywraplp.Solver.CreateSolver('CP_SAT')"
   ]
  },
  {
   "cell_type": "code",
   "execution_count": 17,
   "id": "e487ee40",
   "metadata": {},
   "outputs": [],
   "source": [
    "x = {}\n",
    "for w in [0,1]:\n",
    "    for m in [0, 1, 2]:\n",
    "        x[(w,m)] = solver.NumVar(0, 5000, 'x_%i_%i' % (w,m))"
   ]
  },
  {
   "cell_type": "code",
   "execution_count": 18,
   "id": "7be2cbd9",
   "metadata": {},
   "outputs": [
    {
     "data": {
      "text/plain": [
       "<ortools.linear_solver.pywraplp.Constraint; proxy of <Swig Object of type 'operations_research::MPConstraint *' at 0x000002364810E070> >"
      ]
     },
     "execution_count": 18,
     "metadata": {},
     "output_type": "execute_result"
    }
   ],
   "source": [
    "solver.Add(x[0,0] <= 700)\n",
    "solver.Add(x[0,1] <= 300)\n",
    "solver.Add(x[0,2] == x[0,0] + x[0,1] - 800)\n",
    "\n",
    "solver.Add(x[1,0] <= 700)\n",
    "solver.Add(x[1,1] <= 300)"
   ]
  },
  {
   "cell_type": "code",
   "execution_count": 19,
   "id": "5efea076",
   "metadata": {},
   "outputs": [
    {
     "data": {
      "text/plain": [
       "<ortools.linear_solver.pywraplp.Constraint; proxy of <Swig Object of type 'operations_research::MPConstraint *' at 0x000002364810EAF0> >"
      ]
     },
     "execution_count": 19,
     "metadata": {},
     "output_type": "execute_result"
    }
   ],
   "source": [
    "solver.Add(x[0,0] + x[0,1] >= 800)\n",
    "solver.Add(x[1,0] + x[1,1] + x[0,2] >= 1000)"
   ]
  },
  {
   "cell_type": "code",
   "execution_count": 20,
   "id": "ab216550",
   "metadata": {},
   "outputs": [],
   "source": [
    "solver.Minimize(100*(x[0,0] + x[1,0]) + 120*(x[0,1] + x[1,1]) + 15*(x[0,2]))"
   ]
  },
  {
   "cell_type": "code",
   "execution_count": 21,
   "id": "3fadbfbc",
   "metadata": {},
   "outputs": [
    {
     "data": {
      "text/plain": [
       "0"
      ]
     },
     "execution_count": 21,
     "metadata": {},
     "output_type": "execute_result"
    }
   ],
   "source": [
    "solver.Solve()"
   ]
  },
  {
   "cell_type": "code",
   "execution_count": 22,
   "id": "bbe87e44",
   "metadata": {},
   "outputs": [
    {
     "name": "stdout",
     "output_type": "stream",
     "text": [
      "700.0\n",
      "100.0\n",
      "0.0\n",
      "700.0\n",
      "300.0\n",
      "5000.0\n"
     ]
    }
   ],
   "source": [
    "for w in [0,1]:\n",
    "    for m in [0, 1, 2]:\n",
    "        print(x[(w,m)].solution_value())"
   ]
  },
  {
   "cell_type": "markdown",
   "id": "9263d150",
   "metadata": {},
   "source": [
    "# NPTEL VIDEO"
   ]
  },
  {
   "cell_type": "code",
   "execution_count": 24,
   "id": "d7a5b54c",
   "metadata": {},
   "outputs": [],
   "source": [
    "from ortools.linear_solver import pywraplp"
   ]
  },
  {
   "cell_type": "code",
   "execution_count": 25,
   "id": "56f2a4f2",
   "metadata": {},
   "outputs": [],
   "source": [
    "solver = pywraplp.Solver.CreateSolver('CP_SAT')"
   ]
  },
  {
   "cell_type": "code",
   "execution_count": 26,
   "id": "9bab986c",
   "metadata": {},
   "outputs": [],
   "source": [
    "x1 = solver.NumVar(0, 100000, 'x1')\n",
    "x2 = solver.NumVar(0, 100000, 'x2')\n",
    "y1 = solver.NumVar(0, 100000, 'y1')\n",
    "y2 = solver.NumVar(0, 100000, 'y2')"
   ]
  },
  {
   "cell_type": "code",
   "execution_count": 28,
   "id": "8ed8d1cc",
   "metadata": {},
   "outputs": [
    {
     "data": {
      "text/plain": [
       "<ortools.linear_solver.pywraplp.Constraint; proxy of <Swig Object of type 'operations_research::MPConstraint *' at 0x000002364810D380> >"
      ]
     },
     "execution_count": 28,
     "metadata": {},
     "output_type": "execute_result"
    }
   ],
   "source": [
    "solver.Add(x1+y1 >= 800)\n",
    "solver.Add(x1+x2+y1+y2 >= 1800)\n",
    "solver.Add(x1 <= 700)\n",
    "solver.Add(x2 <= 700)\n",
    "solver.Add(y1 <= 300)\n",
    "solver.Add(y2 <= 300)"
   ]
  },
  {
   "cell_type": "code",
   "execution_count": 29,
   "id": "64b0976d",
   "metadata": {},
   "outputs": [],
   "source": [
    "solver.Minimize(115*x1+100*x2+135*y1+120*y2-12000)"
   ]
  },
  {
   "cell_type": "code",
   "execution_count": 30,
   "id": "d588465c",
   "metadata": {},
   "outputs": [
    {
     "data": {
      "text/plain": [
       "0"
      ]
     },
     "execution_count": 30,
     "metadata": {},
     "output_type": "execute_result"
    }
   ],
   "source": [
    "solver.Solve()"
   ]
  },
  {
   "cell_type": "code",
   "execution_count": 31,
   "id": "d8d707e3",
   "metadata": {},
   "outputs": [
    {
     "data": {
      "text/plain": [
       "700.0"
      ]
     },
     "execution_count": 31,
     "metadata": {},
     "output_type": "execute_result"
    }
   ],
   "source": [
    "x1.solution_value()"
   ]
  },
  {
   "cell_type": "code",
   "execution_count": 32,
   "id": "93092bf0",
   "metadata": {},
   "outputs": [
    {
     "data": {
      "text/plain": [
       "700.0"
      ]
     },
     "execution_count": 32,
     "metadata": {},
     "output_type": "execute_result"
    }
   ],
   "source": [
    "x2.solution_value()"
   ]
  },
  {
   "cell_type": "code",
   "execution_count": 33,
   "id": "a640a426",
   "metadata": {},
   "outputs": [
    {
     "data": {
      "text/plain": [
       "100.0"
      ]
     },
     "execution_count": 33,
     "metadata": {},
     "output_type": "execute_result"
    }
   ],
   "source": [
    "y1.solution_value()"
   ]
  },
  {
   "cell_type": "code",
   "execution_count": 34,
   "id": "beeec70f",
   "metadata": {},
   "outputs": [
    {
     "data": {
      "text/plain": [
       "300.0"
      ]
     },
     "execution_count": 34,
     "metadata": {},
     "output_type": "execute_result"
    }
   ],
   "source": [
    "y2.solution_value()"
   ]
  },
  {
   "cell_type": "code",
   "execution_count": null,
   "id": "a10560de",
   "metadata": {},
   "outputs": [],
   "source": []
  }
 ],
 "metadata": {
  "kernelspec": {
   "display_name": "Python 3 (ipykernel)",
   "language": "python",
   "name": "python3"
  },
  "language_info": {
   "codemirror_mode": {
    "name": "ipython",
    "version": 3
   },
   "file_extension": ".py",
   "mimetype": "text/x-python",
   "name": "python",
   "nbconvert_exporter": "python",
   "pygments_lexer": "ipython3",
   "version": "3.10.13"
  }
 },
 "nbformat": 4,
 "nbformat_minor": 5
}
