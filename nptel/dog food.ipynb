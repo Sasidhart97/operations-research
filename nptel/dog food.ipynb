{
 "cells": [
  {
   "cell_type": "code",
   "execution_count": 1,
   "id": "16733f05",
   "metadata": {},
   "outputs": [],
   "source": [
    "from ortools.linear_solver import pywraplp"
   ]
  },
  {
   "cell_type": "code",
   "execution_count": 19,
   "id": "a820e173",
   "metadata": {},
   "outputs": [],
   "source": [
    "solver = pywraplp.Solver.CreateSolver('SCIP')"
   ]
  },
  {
   "cell_type": "code",
   "execution_count": 20,
   "id": "4712c338",
   "metadata": {},
   "outputs": [],
   "source": [
    "x = solver.NumVar(0.0, 100.0, \"x\")\n",
    "y = solver.NumVar(0.0, 100.0, \"y\")"
   ]
  },
  {
   "cell_type": "code",
   "execution_count": 21,
   "id": "a658fa7b",
   "metadata": {},
   "outputs": [
    {
     "data": {
      "text/plain": [
       "<ortools.linear_solver.pywraplp.Constraint; proxy of <Swig Object of type 'operations_research::MPConstraint *' at 0x00000262FDD39740> >"
      ]
     },
     "execution_count": 21,
     "metadata": {},
     "output_type": "execute_result"
    }
   ],
   "source": [
    "solver.Add(x <= 0.33 * (x+y))"
   ]
  },
  {
   "cell_type": "code",
   "execution_count": 22,
   "id": "2c2ca178",
   "metadata": {},
   "outputs": [
    {
     "data": {
      "text/plain": [
       "<ortools.linear_solver.pywraplp.Constraint; proxy of <Swig Object of type 'operations_research::MPConstraint *' at 0x00000262FDD397A0> >"
      ]
     },
     "execution_count": 22,
     "metadata": {},
     "output_type": "execute_result"
    }
   ],
   "source": [
    "solver.Add(2000*x + 2500*y >= 8000)"
   ]
  },
  {
   "cell_type": "code",
   "execution_count": 23,
   "id": "14e84a55",
   "metadata": {},
   "outputs": [
    {
     "data": {
      "text/plain": [
       "<ortools.linear_solver.pywraplp.Constraint; proxy of <Swig Object of type 'operations_research::MPConstraint *' at 0x00000262FDD39800> >"
      ]
     },
     "execution_count": 23,
     "metadata": {},
     "output_type": "execute_result"
    }
   ],
   "source": [
    "solver.Add(350*x + 170*y >= 700)"
   ]
  },
  {
   "cell_type": "code",
   "execution_count": 24,
   "id": "22556ad9",
   "metadata": {},
   "outputs": [],
   "source": [
    "solver.Minimize(10*x + 20*y)"
   ]
  },
  {
   "cell_type": "code",
   "execution_count": 25,
   "id": "f9c73ffc",
   "metadata": {},
   "outputs": [
    {
     "data": {
      "text/plain": [
       "0"
      ]
     },
     "execution_count": 25,
     "metadata": {},
     "output_type": "execute_result"
    }
   ],
   "source": [
    "solver.Solve()"
   ]
  },
  {
   "cell_type": "code",
   "execution_count": 26,
   "id": "23b86806",
   "metadata": {},
   "outputs": [
    {
     "data": {
      "text/plain": [
       "1.1306209850107067"
      ]
     },
     "execution_count": 26,
     "metadata": {},
     "output_type": "execute_result"
    }
   ],
   "source": [
    "x.solution_value()"
   ]
  },
  {
   "cell_type": "code",
   "execution_count": 27,
   "id": "58edb78a",
   "metadata": {},
   "outputs": [
    {
     "data": {
      "text/plain": [
       "2.2955032119914343"
      ]
     },
     "execution_count": 27,
     "metadata": {},
     "output_type": "execute_result"
    }
   ],
   "source": [
    "y.solution_value()"
   ]
  },
  {
   "cell_type": "code",
   "execution_count": null,
   "id": "a059a526",
   "metadata": {},
   "outputs": [],
   "source": []
  }
 ],
 "metadata": {
  "kernelspec": {
   "display_name": "Python 3 (ipykernel)",
   "language": "python",
   "name": "python3"
  },
  "language_info": {
   "codemirror_mode": {
    "name": "ipython",
    "version": 3
   },
   "file_extension": ".py",
   "mimetype": "text/x-python",
   "name": "python",
   "nbconvert_exporter": "python",
   "pygments_lexer": "ipython3",
   "version": "3.10.13"
  }
 },
 "nbformat": 4,
 "nbformat_minor": 5
}
