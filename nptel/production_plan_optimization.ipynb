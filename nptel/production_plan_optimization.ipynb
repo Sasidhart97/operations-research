{
 "cells": [
  {
   "cell_type": "code",
   "execution_count": 119,
   "id": "bd7097ba",
   "metadata": {},
   "outputs": [],
   "source": [
    "from ortools.linear_solver import pywraplp"
   ]
  },
  {
   "cell_type": "code",
   "execution_count": 120,
   "id": "6f408cbc",
   "metadata": {},
   "outputs": [],
   "source": [
    "solver = pywraplp.Solver.CreateSolver('CP_SAT')"
   ]
  },
  {
   "cell_type": "code",
   "execution_count": 121,
   "id": "eff56c8c",
   "metadata": {},
   "outputs": [],
   "source": [
    "material_list = [0,1]\n",
    "day_list = [0, 1, 2]\n",
    "machine_list = [0,1,2]\n",
    "machine_mat_dict = {(0,0):150, (0,1):75, (1,0):50, (1,1):0, (2,0):0, (2,1):100}"
   ]
  },
  {
   "cell_type": "code",
   "execution_count": 122,
   "id": "2db8930b",
   "metadata": {},
   "outputs": [],
   "source": [
    "machine_mat_date_dict = {}\n",
    "for (i,j) in machine_mat_dict.keys():\n",
    "    for k in day_list:\n",
    "        machine_mat_date_dict[(i,j,k)] = machine_mat_dict[(i,j)]"
   ]
  },
  {
   "cell_type": "code",
   "execution_count": 123,
   "id": "29cd1fec",
   "metadata": {},
   "outputs": [],
   "source": [
    "demand_day_dict = {(0,0):40, (1,0):20, (0,1):10, (1,1): 36, (0,2):20, (1,2):50}"
   ]
  },
  {
   "cell_type": "code",
   "execution_count": 124,
   "id": "c46d5290",
   "metadata": {},
   "outputs": [],
   "source": [
    "margin_dict = {0:300, 1:500}"
   ]
  },
  {
   "cell_type": "code",
   "execution_count": 125,
   "id": "bac31ec3",
   "metadata": {},
   "outputs": [],
   "source": [
    "x = {}\n",
    "for i in machine_list:\n",
    "    for j in material_list:\n",
    "        for k in day_list:\n",
    "            x[(i,j,k)] = solver.NumVar(0,100000000, 'x_%i_%i_%i' % (i,j,k))\n",
    "            solver.Add(x[(i,j,k)] <= machine_mat_date_dict[(i,j,k)])"
   ]
  },
  {
   "cell_type": "code",
   "execution_count": 126,
   "id": "71e4114e",
   "metadata": {},
   "outputs": [],
   "source": [
    "diff = {}\n",
    "for j,k in demand_day_dict.keys():\n",
    "    diff[(j,k)] = solver.NumVar(-10000000,1000000, 'diff_%i_%i' %(j,k))"
   ]
  },
  {
   "cell_type": "code",
   "execution_count": 127,
   "id": "50538e86",
   "metadata": {},
   "outputs": [],
   "source": [
    "# we are makin sure the difference wont cross 110% of demand\n",
    "for j,k in demand_day_dict.keys():\n",
    "    solver.Add(diff[(j,k)] == sum(x[(i,j,k)] for i in machine_list) - demand_day_dict[(j,k)])\n",
    "    #solver.Add(diff[(j,k)] <= 1.1*demand_day_dict[(j,k)])"
   ]
  },
  {
   "cell_type": "code",
   "execution_count": 128,
   "id": "e9385b59",
   "metadata": {},
   "outputs": [],
   "source": [
    "margin = {}\n",
    "for j in margin_dict.keys():\n",
    "    margin[j] = solver.NumVar(0,100000000, 'margin_%i'%j)"
   ]
  },
  {
   "cell_type": "code",
   "execution_count": 129,
   "id": "b1f0702e",
   "metadata": {},
   "outputs": [],
   "source": [
    "for j in margin_dict.keys():\n",
    "    solver.Add(margin[j] == sum(x[(i,j,k)] for i in machine_list for k in day_list) * margin_dict[j])"
   ]
  },
  {
   "cell_type": "code",
   "execution_count": 130,
   "id": "a036e385",
   "metadata": {},
   "outputs": [],
   "source": [
    "solver.Maximize(sum(diff[(j,k)] for j,k in demand_day_dict.keys()) - sum(margin[j] for j in margin_dict.keys()))"
   ]
  },
  {
   "cell_type": "code",
   "execution_count": 131,
   "id": "01b9f821",
   "metadata": {},
   "outputs": [
    {
     "data": {
      "text/plain": [
       "True"
      ]
     },
     "execution_count": 131,
     "metadata": {},
     "output_type": "execute_result"
    }
   ],
   "source": [
    "solver.Solve() ==pywraplp.Solver.OPTIMAL"
   ]
  },
  {
   "cell_type": "code",
   "execution_count": 132,
   "id": "3fc19488",
   "metadata": {},
   "outputs": [],
   "source": [
    "for i in machine_list:\n",
    "    for j in material_list:\n",
    "        for k in day_list:\n",
    "            if x[(i,j,k)].solution_value():\n",
    "                print(\"machine \",i, \"material \", j, \"day \", k,x[(i,j,k)].solution_value(), x[(i,j,k)].solution_value() - demand_day_dict[(j,k)], 1.1*demand_day_dict[(j,k)])"
   ]
  },
  {
   "cell_type": "code",
   "execution_count": null,
   "id": "9f09f44a",
   "metadata": {},
   "outputs": [],
   "source": []
  }
 ],
 "metadata": {
  "kernelspec": {
   "display_name": "Python 3 (ipykernel)",
   "language": "python",
   "name": "python3"
  },
  "language_info": {
   "codemirror_mode": {
    "name": "ipython",
    "version": 3
   },
   "file_extension": ".py",
   "mimetype": "text/x-python",
   "name": "python",
   "nbconvert_exporter": "python",
   "pygments_lexer": "ipython3",
   "version": "3.10.13"
  }
 },
 "nbformat": 4,
 "nbformat_minor": 5
}
