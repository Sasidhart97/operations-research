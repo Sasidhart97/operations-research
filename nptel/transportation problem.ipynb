{
 "cells": [
  {
   "cell_type": "code",
   "execution_count": 95,
   "id": "5757ac10",
   "metadata": {},
   "outputs": [],
   "source": [
    "import gurobipy as gp\n",
    "from gurobipy import GRB\n",
    "\n",
    "# Create a new model\n",
    "model = gp.Model(\"transportation_problem\")\n",
    "\n",
    "# Sets for warehouses and stores\n",
    "warehouses = [\"W1\", \"W2\", \"W3\"]\n",
    "stores = [\"R1\", \"R2\", \"R3\", \"R4\"]\n",
    "\n",
    "# Supply at each warehouse\n",
    "supply = {\"W1\": 40, \"W2\": 50, \"W3\": 35}\n",
    "\n",
    "# Demand at each store\n",
    "demand = {\"R1\": 30, \"R2\": 20, \"R3\": 40, \"R4\": 35}\n",
    "\n",
    "# Transportation costs from each warehouse to each store\n",
    "costs = {\n",
    "    (\"W1\", \"R1\"): 1, (\"W1\", \"R2\"): 2, (\"W1\", \"R3\"): 3, (\"W1\", \"R4\"): 4,\n",
    "    (\"W2\", \"R1\"): 5, (\"W2\", \"R2\"): 6, (\"W2\", \"R3\"): 7, (\"W2\", \"R4\"): 8,\n",
    "    (\"W3\", \"R1\"): 9, (\"W3\", \"R2\"): 10, (\"W3\", \"R3\"): 11, (\"W3\", \"R4\"): 12,\n",
    "}\n",
    "\n",
    "# x={}\n",
    "# for i in range(len(warehouses)):\n",
    "#     for j in range(len(stores)):\n",
    "#         x[(i,j)] = model.addVar(lb = 0)\n",
    "        \n",
    "\n",
    "# z = {}\n",
    "# for j in range(len(stores)):\n",
    "#     z[j] = model.addVar(lb=0)\n",
    "    \n",
    "# for i in range(len(warehouses)):\n",
    "#     model.addConstr(sum(x[(i,j)] for j in range(len(stores))) <= supply[warehouses[i]])\n",
    "    \n",
    "# for j in range(len(stores)):\n",
    "#     model.addConstr(sum(x[(i,j)] for i in range(len(warehouses))) - demand[stores[j]] <= z[j])\n",
    "#     model.addConstr(demand[stores[j]] - sum(x[(i,j)] for i in range(len(warehouses))) <= z[j])\n",
    "    \n",
    "# cost = model.addVar(lb = 0)\n",
    "\n",
    "# model.addConstr(cost == sum(x[(i,j)]*costs[(warehouses[i], stores[j])] for i in range(len(warehouses)) for j in range(len(stores))))\n",
    "\n",
    "# model.setObjective(weight1*cost + weight2*sum(z[j] for j in range(len(stores))), gp.GRB.MINIMIZE)"
   ]
  },
  {
   "cell_type": "code",
   "execution_count": 96,
   "id": "c6e132c2",
   "metadata": {},
   "outputs": [],
   "source": [
    "x={}\n",
    "for i in range(len(warehouses)):\n",
    "    for j in range(len(stores)):\n",
    "        x[(i,j)] = model.addVar(lb = 0)"
   ]
  },
  {
   "cell_type": "code",
   "execution_count": 97,
   "id": "456ec0d7",
   "metadata": {},
   "outputs": [],
   "source": [
    "z = {}\n",
    "for j in range(len(stores)):\n",
    "    z[j] = model.addVar(lb=0)"
   ]
  },
  {
   "cell_type": "code",
   "execution_count": 98,
   "id": "00066555",
   "metadata": {},
   "outputs": [],
   "source": [
    "for i in range(len(warehouses)):\n",
    "    model.addConstr(sum(x[(i,j)] for j in range(len(stores))) <= supply[warehouses[i]])"
   ]
  },
  {
   "cell_type": "code",
   "execution_count": 99,
   "id": "05d679a2",
   "metadata": {},
   "outputs": [],
   "source": [
    "for j in range(len(stores)):\n",
    "    model.addConstr(sum(x[(i,j)] for i in range(len(warehouses))) - demand[stores[j]] <= z[j])\n",
    "    model.addConstr(demand[stores[j]] - sum(x[(i,j)] for i in range(len(warehouses))) <= z[j])\n",
    "\n",
    "# for j in range(len(stores)):\n",
    "#     model.addConstr(sum(x[(i,j)] for i in range(len(warehouses))) - demand[stores[j]] >= 0)"
   ]
  },
  {
   "cell_type": "code",
   "execution_count": 100,
   "id": "3985406a",
   "metadata": {},
   "outputs": [],
   "source": [
    "cost = model.addVar(lb = 0)"
   ]
  },
  {
   "cell_type": "code",
   "execution_count": 101,
   "id": "64698a13",
   "metadata": {},
   "outputs": [
    {
     "data": {
      "text/plain": [
       "<gurobi.Constr *Awaiting Model Update*>"
      ]
     },
     "execution_count": 101,
     "metadata": {},
     "output_type": "execute_result"
    }
   ],
   "source": [
    "model.addConstr(cost == sum(x[(i,j)]*costs[(warehouses[i], stores[j])] for i in range(len(warehouses)) for j in range(len(stores))))"
   ]
  },
  {
   "cell_type": "code",
   "execution_count": 102,
   "id": "d143d869",
   "metadata": {},
   "outputs": [],
   "source": [
    "model.setObjective(0.25*cost + 3.25*sum(z[j] for j in range(len(stores))), gp.GRB.MINIMIZE)\n",
    "#model.setObjective(cost, gp.GRB.MINIMIZE)"
   ]
  },
  {
   "cell_type": "code",
   "execution_count": 103,
   "id": "0128eb4a",
   "metadata": {},
   "outputs": [
    {
     "name": "stdout",
     "output_type": "stream",
     "text": [
      "Gurobi Optimizer version 11.0.3 build v11.0.3rc0 (win64 - Windows 11.0 (22631.2))\n",
      "\n",
      "CPU model: Intel(R) Core(TM) i7-8750H CPU @ 2.20GHz, instruction set [SSE2|AVX|AVX2]\n",
      "Thread count: 6 physical cores, 12 logical processors, using up to 12 threads\n",
      "\n",
      "Optimize a model with 12 rows, 17 columns and 57 nonzeros\n",
      "Model fingerprint: 0xe9d86724\n",
      "Coefficient statistics:\n",
      "  Matrix range     [1e+00, 1e+01]\n",
      "  Objective range  [3e-01, 3e+00]\n",
      "  Bounds range     [0e+00, 0e+00]\n",
      "  RHS range        [2e+01, 5e+01]\n",
      "Presolve removed 1 rows and 1 columns\n",
      "Presolve time: 0.01s\n",
      "Presolved: 11 rows, 16 columns, 44 nonzeros\n",
      "\n",
      "Iteration    Objective       Primal Inf.    Dual Inf.      Time\n",
      "       0    0.0000000e+00   3.125000e+01   0.000000e+00      0s\n",
      "       9    2.0250000e+02   0.000000e+00   0.000000e+00      0s\n",
      "\n",
      "Solved in 9 iterations and 0.02 seconds (0.00 work units)\n",
      "Optimal objective  2.025000000e+02\n"
     ]
    }
   ],
   "source": [
    "model.optimize()"
   ]
  },
  {
   "cell_type": "code",
   "execution_count": 104,
   "id": "8646bff5",
   "metadata": {},
   "outputs": [
    {
     "name": "stdout",
     "output_type": "stream",
     "text": [
      "W1 R1 costs = 1 demand = 30 0.0\n",
      "W2 R1 costs = 5 demand = 30 0.0\n",
      "W3 R1 costs = 9 demand = 30 30.0\n",
      "W1 R2 costs = 2 demand = 20 5.0\n",
      "W2 R2 costs = 6 demand = 20 10.0\n",
      "W3 R2 costs = 10 demand = 20 5.0\n",
      "W1 R3 costs = 3 demand = 40 0.0\n",
      "W2 R3 costs = 7 demand = 40 40.0\n",
      "W3 R3 costs = 11 demand = 40 0.0\n",
      "W1 R4 costs = 4 demand = 35 35.0\n",
      "W2 R4 costs = 8 demand = 35 0.0\n",
      "W3 R4 costs = 12 demand = 35 0.0\n"
     ]
    }
   ],
   "source": [
    "for j in range(len(stores)):\n",
    "    for i in range(len(warehouses)):\n",
    "        print(warehouses[i], stores[j], \"costs =\", costs[(warehouses[i], stores[j])], \"demand =\", demand[stores[j]],\n",
    "              x[(i,j)].x)"
   ]
  },
  {
   "cell_type": "code",
   "execution_count": 105,
   "id": "15a0c21a",
   "metadata": {},
   "outputs": [
    {
     "data": {
      "text/plain": [
       "810.0"
      ]
     },
     "execution_count": 105,
     "metadata": {},
     "output_type": "execute_result"
    }
   ],
   "source": [
    "cost.x"
   ]
  },
  {
   "cell_type": "code",
   "execution_count": 106,
   "id": "b1b32677",
   "metadata": {},
   "outputs": [
    {
     "name": "stdout",
     "output_type": "stream",
     "text": [
      "0.0\n",
      "0.0\n",
      "0.0\n",
      "0.0\n"
     ]
    }
   ],
   "source": [
    "for j in range(len(stores)):\n",
    "    print(z[j].x)"
   ]
  },
  {
   "cell_type": "code",
   "execution_count": null,
   "id": "25f856d7",
   "metadata": {},
   "outputs": [],
   "source": []
  }
 ],
 "metadata": {
  "kernelspec": {
   "display_name": "Python 3 (ipykernel)",
   "language": "python",
   "name": "python3"
  },
  "language_info": {
   "codemirror_mode": {
    "name": "ipython",
    "version": 3
   },
   "file_extension": ".py",
   "mimetype": "text/x-python",
   "name": "python",
   "nbconvert_exporter": "python",
   "pygments_lexer": "ipython3",
   "version": "3.10.13"
  }
 },
 "nbformat": 4,
 "nbformat_minor": 5
}
