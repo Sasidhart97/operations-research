{
 "cells": [
  {
   "cell_type": "code",
   "execution_count": 1,
   "id": "2858d66d",
   "metadata": {},
   "outputs": [],
   "source": [
    "from ortools.linear_solver import pywraplp"
   ]
  },
  {
   "cell_type": "code",
   "execution_count": 2,
   "id": "43f0c9b9",
   "metadata": {},
   "outputs": [],
   "source": [
    "solver = pywraplp.Solver.CreateSolver('CP_SAT')"
   ]
  },
  {
   "cell_type": "code",
   "execution_count": 3,
   "id": "779ed26a",
   "metadata": {},
   "outputs": [],
   "source": [
    "x = solver.NumVar(0, 100000, 'x')\n",
    "y = solver.NumVar(0, 100000, 'y')"
   ]
  },
  {
   "cell_type": "code",
   "execution_count": 4,
   "id": "52c8b831",
   "metadata": {},
   "outputs": [
    {
     "data": {
      "text/plain": [
       "<ortools.linear_solver.pywraplp.Constraint; proxy of <Swig Object of type 'operations_research::MPConstraint *' at 0x000002EB877F24C0> >"
      ]
     },
     "execution_count": 4,
     "metadata": {},
     "output_type": "execute_result"
    }
   ],
   "source": [
    "solver.Add(3*x+3*y <= 21)"
   ]
  },
  {
   "cell_type": "code",
   "execution_count": 5,
   "id": "11ee6661",
   "metadata": {},
   "outputs": [
    {
     "data": {
      "text/plain": [
       "<ortools.linear_solver.pywraplp.Constraint; proxy of <Swig Object of type 'operations_research::MPConstraint *' at 0x000002EB877F25E0> >"
      ]
     },
     "execution_count": 5,
     "metadata": {},
     "output_type": "execute_result"
    }
   ],
   "source": [
    "solver.Add(3*x+4*y <= 28)"
   ]
  },
  {
   "cell_type": "code",
   "execution_count": 6,
   "id": "0691bef2",
   "metadata": {},
   "outputs": [],
   "source": [
    "solver.Maximize(1000*x + 900*y)"
   ]
  },
  {
   "cell_type": "code",
   "execution_count": 8,
   "id": "55d9fe10",
   "metadata": {},
   "outputs": [
    {
     "data": {
      "text/plain": [
       "0"
      ]
     },
     "execution_count": 8,
     "metadata": {},
     "output_type": "execute_result"
    }
   ],
   "source": [
    "solver.Solve()"
   ]
  },
  {
   "cell_type": "code",
   "execution_count": 10,
   "id": "49a3194a",
   "metadata": {},
   "outputs": [
    {
     "name": "stdout",
     "output_type": "stream",
     "text": [
      "Optimal Found\n"
     ]
    }
   ],
   "source": [
    "if solver.Solve()==pywraplp.Solver.OPTIMAL: print('Optimal Found')"
   ]
  },
  {
   "cell_type": "code",
   "execution_count": 11,
   "id": "e3767f9e",
   "metadata": {},
   "outputs": [
    {
     "data": {
      "text/plain": [
       "7.0"
      ]
     },
     "execution_count": 11,
     "metadata": {},
     "output_type": "execute_result"
    }
   ],
   "source": [
    "x.solution_value()"
   ]
  },
  {
   "cell_type": "code",
   "execution_count": 12,
   "id": "dc450f76",
   "metadata": {},
   "outputs": [
    {
     "data": {
      "text/plain": [
       "0.0"
      ]
     },
     "execution_count": 12,
     "metadata": {},
     "output_type": "execute_result"
    }
   ],
   "source": [
    "y.solution_value()"
   ]
  },
  {
   "cell_type": "code",
   "execution_count": null,
   "id": "82a8b7bd",
   "metadata": {},
   "outputs": [],
   "source": []
  }
 ],
 "metadata": {
  "kernelspec": {
   "display_name": "Python 3 (ipykernel)",
   "language": "python",
   "name": "python3"
  },
  "language_info": {
   "codemirror_mode": {
    "name": "ipython",
    "version": 3
   },
   "file_extension": ".py",
   "mimetype": "text/x-python",
   "name": "python",
   "nbconvert_exporter": "python",
   "pygments_lexer": "ipython3",
   "version": "3.10.13"
  }
 },
 "nbformat": 4,
 "nbformat_minor": 5
}
