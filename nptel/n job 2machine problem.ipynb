{
 "cells": [
  {
   "cell_type": "code",
   "execution_count": 1,
   "id": "c63c3407",
   "metadata": {},
   "outputs": [],
   "source": [
    "import gurobipy as gp\n",
    "from gurobipy import GRB"
   ]
  },
  {
   "cell_type": "code",
   "execution_count": 2,
   "id": "68e869e3",
   "metadata": {},
   "outputs": [],
   "source": [
    "# Data\n",
    "jobs = [1, 2, 3, 4, 5]\n",
    "time_A = [5, 1, 9, 3, 10]\n",
    "time_B = [2, 6, 7, 8, 4]\n",
    "n = len(jobs)"
   ]
  },
  {
   "cell_type": "code",
   "execution_count": 3,
   "id": "20629cd6",
   "metadata": {},
   "outputs": [
    {
     "name": "stdout",
     "output_type": "stream",
     "text": [
      "Restricted license - for non-production use only - expires 2025-11-24\n"
     ]
    }
   ],
   "source": [
    "model = gp.Model('scheduling')"
   ]
  },
  {
   "cell_type": "code",
   "execution_count": 14,
   "id": "49eb6edf",
   "metadata": {},
   "outputs": [],
   "source": [
    "x = {}\n",
    "for i in range(n):\n",
    "    for j in range(n):\n",
    "        x[(i,j)] = model.addVar(0,1, vtype=GRB.INTEGER, name = 'x_%i_%i' %(i,j))"
   ]
  },
  {
   "cell_type": "code",
   "execution_count": 1,
   "id": "8f6f97cc",
   "metadata": {},
   "outputs": [
    {
     "name": "stdout",
     "output_type": "stream",
     "text": [
      "Restricted license - for non-production use only - expires 2025-11-24\n",
      "Gurobi Optimizer version 11.0.3 build v11.0.3rc0 (win64 - Windows 11.0 (22631.2))\n",
      "\n",
      "CPU model: Intel(R) Core(TM) i7-8750H CPU @ 2.20GHz, instruction set [SSE2|AVX|AVX2]\n",
      "Thread count: 6 physical cores, 12 logical processors, using up to 12 threads\n",
      "\n",
      "Optimize a model with 11 rows, 36 columns and 51 nonzeros\n",
      "Model fingerprint: 0xbaaa490a\n",
      "Model has 10 quadratic constraints\n",
      "Variable types: 11 continuous, 25 integer (25 binary)\n",
      "Coefficient statistics:\n",
      "  Matrix range     [1e+00, 1e+00]\n",
      "  QMatrix range    [1e+00, 1e+00]\n",
      "  QLMatrix range   [1e+00, 1e+01]\n",
      "  Objective range  [1e+00, 1e+00]\n",
      "  Bounds range     [1e+00, 1e+00]\n",
      "  RHS range        [1e+00, 1e+00]\n",
      "Presolve removed 0 rows and 2 columns\n",
      "Presolve time: 0.04s\n",
      "Presolved: 129 rows, 94 columns, 403 nonzeros\n",
      "Presolved model has 20 SOS constraint(s)\n",
      "Variable types: 58 continuous, 36 integer (35 binary)\n",
      "Found heuristic solution: objective 32.0000000\n",
      "Found heuristic solution: objective 25.0000000\n",
      "\n",
      "Root relaxation: objective 2.020972e+00, 37 iterations, 0.02 seconds (0.00 work units)\n",
      "\n",
      "    Nodes    |    Current Node    |     Objective Bounds      |     Work\n",
      " Expl Unexpl |  Obj  Depth IntInf | Incumbent    BestBd   Gap | It/Node Time\n",
      "\n",
      "     0     0    2.02097    0   14   25.00000    2.02097  91.9%     -    0s\n",
      "     0     0    2.04139    0   14   25.00000    2.04139  91.8%     -    0s\n",
      "     0     0   14.85522    0   15   25.00000   14.85522  40.6%     -    0s\n",
      "     0     0   25.00000    0   16   25.00000   25.00000  0.00%     -    0s\n",
      "\n",
      "Cutting planes:\n",
      "  Gomory: 2\n",
      "  Implied bound: 16\n",
      "  MIR: 6\n",
      "  Flow cover: 7\n",
      "  RLT: 1\n",
      "  Relax-and-lift: 1\n",
      "\n",
      "Explored 1 nodes (184 simplex iterations) in 0.23 seconds (0.01 work units)\n",
      "Thread count was 12 (of 12 available processors)\n",
      "\n",
      "Solution count 2: 25 32 \n",
      "\n",
      "Optimal solution found (tolerance 1.00e-04)\n",
      "Best objective 2.500000000000e+01, best bound 2.500000000000e+01, gap 0.0000%\n",
      "Optimal schedule with makespan 25.0\n",
      "Job 1 is scheduled at position 5\n",
      "Job 2 is scheduled at position 4\n",
      "Job 3 is scheduled at position 3\n",
      "Job 4 is scheduled at position 2\n",
      "Job 5 is scheduled at position 1\n"
     ]
    }
   ],
   "source": [
    "from gurobipy import Model, GRB, quicksum\n",
    "\n",
    "# Processing time for Jobs on Machines A and B\n",
    "jobs = [1, 2, 3, 4, 5]\n",
    "time_A = [5, 1, 9, 3, 10]  # Time for Machine A\n",
    "time_B = [2, 6, 7, 8, 4]   # Time for Machine B\n",
    "\n",
    "n_jobs = len(jobs)\n",
    "\n",
    "# Create a new model\n",
    "m = Model(\"flow_shop_scheduling\")\n",
    "\n",
    "# Decision variables: X[i,j] = 1 if job i is at position j\n",
    "X = m.addVars(n_jobs, n_jobs, vtype=GRB.BINARY, name=\"X\")\n",
    "\n",
    "# C_max: Completion time of the last job on Machine B (makespan)\n",
    "C_max = m.addVar(vtype=GRB.CONTINUOUS, name=\"C_max\")\n",
    "\n",
    "# Constraints\n",
    "# 1. Each job is assigned to exactly one position\n",
    "for i in range(n_jobs):\n",
    "    m.addConstr(quicksum(X[i,j] for j in range(n_jobs)) == 1, name=f\"assign_job_{i}\")\n",
    "\n",
    "# 2. Each position is assigned to exactly one job\n",
    "for j in range(n_jobs):\n",
    "    m.addConstr(quicksum(X[i,j] for i in range(n_jobs)) == 1, name=f\"assign_pos_{j}\")\n",
    "\n",
    "# 3. Completion time constraints for both machines\n",
    "start_A = [m.addVar(vtype=GRB.CONTINUOUS, name=f\"start_A_{j}\") for j in range(n_jobs)]\n",
    "start_B = [m.addVar(vtype=GRB.CONTINUOUS, name=f\"start_B_{j}\") for j in range(n_jobs)]\n",
    "\n",
    "for j in range(n_jobs):\n",
    "    # Start time of job j on Machine A\n",
    "    m.addConstr(start_A[j] == quicksum(X[i,j] * (0 if j == 0 else start_A[j-1] + time_A[i]) for i in range(n_jobs)))\n",
    "\n",
    "    # Start time of job j on Machine B depends on when job j finishes on Machine A and Machine B being free\n",
    "    m.addConstr(start_B[j] == quicksum(X[i,j] * (start_A[j] + time_A[i]) for i in range(n_jobs)))\n",
    "\n",
    "# 4. Define C_max as the completion time of the last job on Machine B\n",
    "m.addConstr(C_max == quicksum(X[i,n_jobs-1] * (start_B[n_jobs-1] + time_B[i]) for i in range(n_jobs)))\n",
    "\n",
    "# Objective: Minimize the makespan\n",
    "m.setObjective(C_max, GRB.MINIMIZE)\n",
    "\n",
    "# Optimize the model\n",
    "m.optimize()\n",
    "\n",
    "# Print the results\n",
    "if m.status == GRB.OPTIMAL:\n",
    "    print(f\"Optimal schedule with makespan {C_max.X}\")\n",
    "    for i in range(n_jobs):\n",
    "        for j in range(n_jobs):\n",
    "            if X[i, j].X > 0.5:\n",
    "                print(f\"Job {jobs[i]} is scheduled at position {j+1}\")\n"
   ]
  },
  {
   "cell_type": "code",
   "execution_count": null,
   "id": "17b10a43",
   "metadata": {},
   "outputs": [],
   "source": []
  }
 ],
 "metadata": {
  "kernelspec": {
   "display_name": "Python 3 (ipykernel)",
   "language": "python",
   "name": "python3"
  },
  "language_info": {
   "codemirror_mode": {
    "name": "ipython",
    "version": 3
   },
   "file_extension": ".py",
   "mimetype": "text/x-python",
   "name": "python",
   "nbconvert_exporter": "python",
   "pygments_lexer": "ipython3",
   "version": "3.10.13"
  }
 },
 "nbformat": 4,
 "nbformat_minor": 5
}
