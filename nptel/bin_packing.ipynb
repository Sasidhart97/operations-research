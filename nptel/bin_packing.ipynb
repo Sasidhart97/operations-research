{
 "cells": [
  {
   "cell_type": "code",
   "execution_count": 127,
   "id": "cce181b3",
   "metadata": {},
   "outputs": [],
   "source": [
    "from ortools.linear_solver import pywraplp"
   ]
  },
  {
   "cell_type": "code",
   "execution_count": 128,
   "id": "d6c25fe9",
   "metadata": {},
   "outputs": [],
   "source": [
    "solver = pywraplp.Solver.CreateSolver('CP_SAT')"
   ]
  },
  {
   "cell_type": "code",
   "execution_count": 129,
   "id": "32a9fb43",
   "metadata": {},
   "outputs": [],
   "source": [
    "b = 10"
   ]
  },
  {
   "cell_type": "code",
   "execution_count": 130,
   "id": "b8762ca7",
   "metadata": {},
   "outputs": [],
   "source": [
    "l = [8,6,9,28,17,24, 7, 21]"
   ]
  },
  {
   "cell_type": "code",
   "execution_count": 131,
   "id": "fae7e3c0",
   "metadata": {},
   "outputs": [],
   "source": [
    "x = {}\n",
    "for i in range(b):\n",
    "    for j in range(len(l)):\n",
    "        x[(i,j)] = solver.NumVar(0,1000, \"x_%i_%i\" % (i,j))"
   ]
  },
  {
   "cell_type": "code",
   "execution_count": 132,
   "id": "87f6c243",
   "metadata": {},
   "outputs": [],
   "source": [
    "for j in range(len(l)):\n",
    "    #print(l[j])\n",
    "    solver.Add(sum(x[(i,j)] for i in range(b)) == l[j])"
   ]
  },
  {
   "cell_type": "code",
   "execution_count": 133,
   "id": "8cd0c1ea",
   "metadata": {},
   "outputs": [],
   "source": [
    "y = {}\n",
    "for i in range(b):\n",
    "    y[i] = solver.IntVar(0,1, 'y_%i' %(i))"
   ]
  },
  {
   "cell_type": "code",
   "execution_count": 134,
   "id": "5f95f510",
   "metadata": {},
   "outputs": [],
   "source": [
    "for i in range(b):\n",
    "    solver.Add(sum(x[(i,j)] for j in range(len(l))) <= 45)"
   ]
  },
  {
   "cell_type": "code",
   "execution_count": 135,
   "id": "8566e27c",
   "metadata": {},
   "outputs": [],
   "source": [
    "M = 100000\n",
    "for i in range(b):\n",
    "    solver.Add(M*y[i] >= sum(x[(i,j)] for j in range(len(l))))"
   ]
  },
  {
   "cell_type": "code",
   "execution_count": 136,
   "id": "fc1fc4b0",
   "metadata": {},
   "outputs": [],
   "source": [
    "for i in range(b-1):\n",
    "    solver.Add(y[i]*45 >= y[i+1])"
   ]
  },
  {
   "cell_type": "code",
   "execution_count": 137,
   "id": "fdd12e1b",
   "metadata": {},
   "outputs": [],
   "source": [
    "solver.Minimize(sum(y[i] for i in range(b)))"
   ]
  },
  {
   "cell_type": "code",
   "execution_count": 138,
   "id": "3070fde1",
   "metadata": {},
   "outputs": [
    {
     "data": {
      "text/plain": [
       "0"
      ]
     },
     "execution_count": 138,
     "metadata": {},
     "output_type": "execute_result"
    }
   ],
   "source": [
    "solver.Solve()"
   ]
  },
  {
   "cell_type": "code",
   "execution_count": 139,
   "id": "fd47c4b3",
   "metadata": {},
   "outputs": [
    {
     "name": "stdout",
     "output_type": "stream",
     "text": [
      "box 0 prod 0 qty 8 5.0\n",
      "box 0 prod 1 qty 6 4.0\n",
      "box 0 prod 2 qty 9 3.0\n",
      "box 0 prod 3 qty 28 18.0\n",
      "box 0 prod 4 qty 17 2.0\n",
      "box 0 prod 5 qty 24 2.0\n",
      "box 0 prod 6 qty 7 1.0\n",
      "box 0 prod 7 qty 21 2.0\n",
      "box 1 prod 2 qty 9 2.0\n",
      "box 1 prod 3 qty 28 4.0\n",
      "box 1 prod 4 qty 17 3.0\n",
      "box 1 prod 5 qty 24 7.0\n",
      "box 1 prod 6 qty 7 5.0\n",
      "box 1 prod 7 qty 21 17.0\n",
      "box 2 prod 0 qty 8 3.0\n",
      "box 2 prod 1 qty 6 2.0\n",
      "box 2 prod 2 qty 9 4.0\n",
      "box 2 prod 3 qty 28 6.0\n",
      "box 2 prod 4 qty 17 12.0\n",
      "box 2 prod 5 qty 24 15.0\n",
      "box 2 prod 6 qty 7 1.0\n",
      "box 2 prod 7 qty 21 2.0\n"
     ]
    }
   ],
   "source": [
    "for i in range(b):\n",
    "    for j in range(len(l)):\n",
    "        #print(x[i])\n",
    "        if x[(i,j)].solution_value():\n",
    "            print(\"box\", i, \"prod\", j, \"qty\",l[j], x[(i,j)].solution_value())"
   ]
  },
  {
   "cell_type": "code",
   "execution_count": null,
   "id": "717b1d76",
   "metadata": {},
   "outputs": [],
   "source": []
  }
 ],
 "metadata": {
  "kernelspec": {
   "display_name": "Python 3 (ipykernel)",
   "language": "python",
   "name": "python3"
  },
  "language_info": {
   "codemirror_mode": {
    "name": "ipython",
    "version": 3
   },
   "file_extension": ".py",
   "mimetype": "text/x-python",
   "name": "python",
   "nbconvert_exporter": "python",
   "pygments_lexer": "ipython3",
   "version": "3.10.13"
  }
 },
 "nbformat": 4,
 "nbformat_minor": 5
}
