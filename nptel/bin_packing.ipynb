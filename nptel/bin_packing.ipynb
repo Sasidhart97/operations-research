{
 "cells": [
  {
   "cell_type": "code",
   "execution_count": 73,
   "id": "cce181b3",
   "metadata": {},
   "outputs": [],
   "source": [
    "from ortools.linear_solver import pywraplp"
   ]
  },
  {
   "cell_type": "code",
   "execution_count": 74,
   "id": "d6c25fe9",
   "metadata": {},
   "outputs": [],
   "source": [
    "solver = pywraplp.Solver.CreateSolver('CP_SAT')"
   ]
  },
  {
   "cell_type": "code",
   "execution_count": 75,
   "id": "32a9fb43",
   "metadata": {},
   "outputs": [],
   "source": [
    "b = 10"
   ]
  },
  {
   "cell_type": "code",
   "execution_count": 76,
   "id": "b8762ca7",
   "metadata": {},
   "outputs": [],
   "source": [
    "l = [8,6,9,28,17,24, 7, 21]"
   ]
  },
  {
   "cell_type": "code",
   "execution_count": 77,
   "id": "fae7e3c0",
   "metadata": {},
   "outputs": [],
   "source": [
    "x = {}\n",
    "for i in range(b):\n",
    "    for j in range(len(l)):\n",
    "        x[(i,j)] = solver.IntVar(0,1, \"x_%i_%i\" % (i,j))"
   ]
  },
  {
   "cell_type": "code",
   "execution_count": 78,
   "id": "974fd52b",
   "metadata": {},
   "outputs": [],
   "source": [
    "for j in range(len(l)):\n",
    "    solver.Add(sum(x[(i,j)] for i in range(b)) == 1)"
   ]
  },
  {
   "cell_type": "code",
   "execution_count": 79,
   "id": "87f6c243",
   "metadata": {},
   "outputs": [],
   "source": [
    "for i in range(b):\n",
    "    solver.Add(sum(x[(i,j)]*l[j] for j in range(len(l))) <= 45)"
   ]
  },
  {
   "cell_type": "code",
   "execution_count": 80,
   "id": "8cd0c1ea",
   "metadata": {},
   "outputs": [],
   "source": [
    "y = {}\n",
    "for i in range(b):\n",
    "    y[i] = solver.IntVar(0,1, 'y_%i' %(i))"
   ]
  },
  {
   "cell_type": "code",
   "execution_count": 81,
   "id": "8566e27c",
   "metadata": {},
   "outputs": [],
   "source": [
    "M = 100000\n",
    "for i in range(b):\n",
    "    solver.Add(M*y[i] >= sum(x[(i,j)] for j in range(len(l))))"
   ]
  },
  {
   "cell_type": "code",
   "execution_count": 82,
   "id": "fdd12e1b",
   "metadata": {},
   "outputs": [],
   "source": [
    "solver.Minimize(sum(y[i] for i in range(b)))"
   ]
  },
  {
   "cell_type": "code",
   "execution_count": 83,
   "id": "3070fde1",
   "metadata": {},
   "outputs": [
    {
     "data": {
      "text/plain": [
       "0"
      ]
     },
     "execution_count": 83,
     "metadata": {},
     "output_type": "execute_result"
    }
   ],
   "source": [
    "solver.Solve()"
   ]
  },
  {
   "cell_type": "code",
   "execution_count": 84,
   "id": "fd47c4b3",
   "metadata": {},
   "outputs": [
    {
     "name": "stdout",
     "output_type": "stream",
     "text": [
      "box 0 prod 3 qty 28\n",
      "box 0 prod 4 qty 17\n",
      "box 1 prod 2 qty 9\n",
      "box 1 prod 7 qty 21\n",
      "box 9 prod 0 qty 8\n",
      "box 9 prod 1 qty 6\n",
      "box 9 prod 5 qty 24\n",
      "box 9 prod 6 qty 7\n"
     ]
    }
   ],
   "source": [
    "for i in range(b):\n",
    "    for j in range(len(l)):\n",
    "        #print(x[i])\n",
    "        if x[(i,j)].solution_value():\n",
    "            print(\"box\", i, \"prod\", j, \"qty\",l[j])"
   ]
  }
 ],
 "metadata": {
  "kernelspec": {
   "display_name": "Python 3 (ipykernel)",
   "language": "python",
   "name": "python3"
  },
  "language_info": {
   "codemirror_mode": {
    "name": "ipython",
    "version": 3
   },
   "file_extension": ".py",
   "mimetype": "text/x-python",
   "name": "python",
   "nbconvert_exporter": "python",
   "pygments_lexer": "ipython3",
   "version": "3.10.13"
  }
 },
 "nbformat": 4,
 "nbformat_minor": 5
}
