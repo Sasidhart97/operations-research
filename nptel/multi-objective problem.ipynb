{
 "cells": [
  {
   "cell_type": "code",
   "execution_count": 5,
   "id": "802e2863",
   "metadata": {},
   "outputs": [
    {
     "name": "stdout",
     "output_type": "stream",
     "text": [
      "Gurobi Optimizer version 11.0.3 build v11.0.3rc0 (win64 - Windows 11.0 (22631.2))\n",
      "\n",
      "CPU model: Intel(R) Core(TM) i7-8750H CPU @ 2.20GHz, instruction set [SSE2|AVX|AVX2]\n",
      "Thread count: 6 physical cores, 12 logical processors, using up to 12 threads\n",
      "\n",
      "Optimize a model with 5 rows, 2 columns and 8 nonzeros\n",
      "Model fingerprint: 0x09502462\n",
      "Coefficient statistics:\n",
      "  Matrix range     [1e+00, 2e+00]\n",
      "  Objective range  [2e+00, 5e+00]\n",
      "  Bounds range     [0e+00, 0e+00]\n",
      "  RHS range        [2e+00, 5e+00]\n",
      "Presolve removed 2 rows and 0 columns\n",
      "Presolve time: 0.01s\n",
      "Presolved: 3 rows, 2 columns, 6 nonzeros\n",
      "\n",
      "Iteration    Objective       Primal Inf.    Dual Inf.      Time\n",
      "       0    0.0000000e+00   1.000000e+00   0.000000e+00      0s\n",
      "       1    2.0000000e+00   0.000000e+00   0.000000e+00      0s\n",
      "\n",
      "Solved in 1 iterations and 0.01 seconds (0.00 work units)\n",
      "Optimal objective  2.000000000e+00\n"
     ]
    }
   ],
   "source": [
    "import gurobipy as gp\n",
    "\n",
    "# Define your model with Gurobi directly\n",
    "model = gp.Model()\n",
    "\n",
    "# Add variables\n",
    "x1 = model.addVar(lb=0, name=\"x1\")\n",
    "x2 = model.addVar(lb=0, name=\"x2\")\n",
    "\n",
    "# Add constraints\n",
    "model.addConstr(x1 + 2*x2 >= 2, \"c1\")\n",
    "model.addConstr(2*x1 - x2 <= 4, \"c2\")\n",
    "model.addConstr(x1 + x2 <= 5, \"c3\")\n",
    "model.addConstr(x1 >= 0, \"c5\")\n",
    "model.addConstr(x2 >= 0, \"c6\")\n",
    "\n",
    "# Set objective function\n",
    "model.setObjective(x1 + x2, gp.GRB.MINIMIZE)\n",
    "model.setObjective(5*x1 + 2*x2, gp.GRB.MINIMIZE)\n",
    "\n",
    "# Solve the model\n",
    "model.optimize()"
   ]
  },
  {
   "cell_type": "code",
   "execution_count": 8,
   "id": "58b509d2",
   "metadata": {},
   "outputs": [
    {
     "data": {
      "text/plain": [
       "(0.0, 1.0)"
      ]
     },
     "execution_count": 8,
     "metadata": {},
     "output_type": "execute_result"
    }
   ],
   "source": [
    "x1.x, x2.x"
   ]
  },
  {
   "cell_type": "code",
   "execution_count": 11,
   "id": "af706cf2",
   "metadata": {},
   "outputs": [
    {
     "name": "stdout",
     "output_type": "stream",
     "text": [
      "Gurobi Optimizer version 11.0.3 build v11.0.3rc0 (win64 - Windows 11.0 (22631.2))\n",
      "\n",
      "CPU model: Intel(R) Core(TM) i7-8750H CPU @ 2.20GHz, instruction set [SSE2|AVX|AVX2]\n",
      "Thread count: 6 physical cores, 12 logical processors, using up to 12 threads\n",
      "\n",
      "Optimize a model with 5 rows, 2 columns and 8 nonzeros\n",
      "Model fingerprint: 0x98a8b26e\n",
      "Coefficient statistics:\n",
      "  Matrix range     [1e+00, 2e+00]\n",
      "  Objective range  [1e+00, 2e+00]\n",
      "  Bounds range     [0e+00, 0e+00]\n",
      "  RHS range        [2e+00, 5e+00]\n",
      "Presolve removed 5 rows and 2 columns\n",
      "Presolve time: 0.01s\n",
      "Presolve: All rows and columns removed\n",
      "Iteration    Objective       Primal Inf.    Dual Inf.      Time\n",
      "       0   -8.0000000e+00   0.000000e+00   0.000000e+00      0s\n",
      "\n",
      "Solved in 0 iterations and 0.01 seconds (0.00 work units)\n",
      "Optimal objective -8.000000000e+00\n",
      "Gurobi Optimizer version 11.0.3 build v11.0.3rc0 (win64 - Windows 11.0 (22631.2))\n",
      "\n",
      "CPU model: Intel(R) Core(TM) i7-8750H CPU @ 2.20GHz, instruction set [SSE2|AVX|AVX2]\n",
      "Thread count: 6 physical cores, 12 logical processors, using up to 12 threads\n",
      "\n",
      "Optimize a model with 5 rows, 2 columns and 8 nonzeros\n",
      "Coefficient statistics:\n",
      "  Matrix range     [1e+00, 2e+00]\n",
      "  Objective range  [1e+00, 2e+00]\n",
      "  Bounds range     [0e+00, 0e+00]\n",
      "  RHS range        [2e+00, 5e+00]\n",
      "LP warm-start: use basis\n",
      "\n",
      "Iteration    Objective       Primal Inf.    Dual Inf.      Time\n",
      "       0   -6.6666667e+29   1.333333e+30   6.666667e-01      0s\n",
      "       1   -1.0000000e+01   0.000000e+00   0.000000e+00      0s\n",
      "\n",
      "Solved in 1 iterations and 0.02 seconds (0.00 work units)\n",
      "Optimal objective -1.000000000e+01\n",
      "First Objective Optimal Solution: x1 = 3.0 x2 = 2.0 Objective Value = -8.0\n",
      "Second Objective Optimal Solution: x1 = 0.0 x2 = 5.0 Objective Value = -10.0\n"
     ]
    }
   ],
   "source": [
    "import gurobipy as gp\n",
    "\n",
    "# Create a model\n",
    "model = gp.Model()\n",
    "\n",
    "# Add variables\n",
    "x1 = model.addVar(lb=0, name=\"x1\")\n",
    "x2 = model.addVar(lb=0, name=\"x2\")\n",
    "\n",
    "# Add constraints\n",
    "model.addConstr(x1 + 2 * x2 >= 2, \"c1\")\n",
    "model.addConstr(2 * x1 - x2 <= 4, \"c2\")\n",
    "model.addConstr(x1 + x2 <= 5, \"c3\")\n",
    "model.addConstr(x1 >= 0, \"c5\")\n",
    "model.addConstr(x2 >= 0, \"c6\")\n",
    "\n",
    "# First Objective: Minimize x1 + x2\n",
    "#model.setObjective(x1 + x2, gp.GRB.MINIMIZE)\n",
    "model.setObjective(-2*x1 - x2, gp.GRB.MINIMIZE)\n",
    "model.optimize()\n",
    "\n",
    "# Store the first objective's solution\n",
    "x1_opt_1 = x1.X\n",
    "x2_opt_1 = x2.X\n",
    "obj1_value = model.ObjVal\n",
    "\n",
    "# Now solve for the second objective\n",
    "#model.setObjective(5 * x1 + 2 * x2, gp.GRB.MINIMIZE)\n",
    "model.setObjective(-x1 - 2*x2, gp.GRB.MINIMIZE)\n",
    "model.optimize()\n",
    "\n",
    "# Store the second objective's solution\n",
    "x1_opt_2 = x1.X\n",
    "x2_opt_2 = x2.X\n",
    "obj2_value = model.ObjVal\n",
    "\n",
    "# Output the results\n",
    "print(\"First Objective Optimal Solution: x1 =\", x1_opt_1, \"x2 =\", x2_opt_1, \"Objective Value =\", obj1_value)\n",
    "print(\"Second Objective Optimal Solution: x1 =\", x1_opt_2, \"x2 =\", x2_opt_2, \"Objective Value =\", obj2_value)\n"
   ]
  },
  {
   "cell_type": "code",
   "execution_count": 12,
   "id": "635e91a5",
   "metadata": {},
   "outputs": [
    {
     "name": "stdout",
     "output_type": "stream",
     "text": [
      "Gurobi Optimizer version 11.0.3 build v11.0.3rc0 (win64 - Windows 11.0 (22631.2))\n",
      "\n",
      "CPU model: Intel(R) Core(TM) i7-8750H CPU @ 2.20GHz, instruction set [SSE2|AVX|AVX2]\n",
      "Thread count: 6 physical cores, 12 logical processors, using up to 12 threads\n",
      "\n",
      "Optimize a model with 5 rows, 2 columns and 8 nonzeros\n",
      "Coefficient statistics:\n",
      "  Matrix range     [1e+00, 2e+00]\n",
      "  Objective range  [2e+00, 2e+00]\n",
      "  Bounds range     [0e+00, 0e+00]\n",
      "  RHS range        [2e+00, 5e+00]\n",
      "LP warm-start: use basis\n",
      "\n",
      "Iteration    Objective       Primal Inf.    Dual Inf.      Time\n",
      "       0   -7.5000000e+00   0.000000e+00   0.000000e+00      0s\n",
      "\n",
      "Solved in 0 iterations and 0.01 seconds (0.00 work units)\n",
      "Optimal objective -7.500000000e+00\n",
      "Pareto Optimal Solution: x1 = 0.0 x2 = 5.0 Combined Objective Value = -7.5\n"
     ]
    }
   ],
   "source": [
    "# Define weights for the objectives (you can tune these weights to your preference)\n",
    "w1 = 0.5  # Weight for first objective (x1 + x2)\n",
    "w2 = 0.5  # Weight for second objective (5 * x1 + 2 * x2)\n",
    "\n",
    "# Set the combined weighted objective\n",
    "model.setObjective(w1 * (-2*x1 - x2) + w2 * (-x1 - 2*x2), gp.GRB.MINIMIZE)\n",
    "\n",
    "# Optimize for the combined objective\n",
    "model.optimize()\n",
    "\n",
    "# Output the solution\n",
    "print(\"Pareto Optimal Solution: x1 =\", x1.X, \"x2 =\", x2.X, \"Combined Objective Value =\", model.ObjVal)\n"
   ]
  },
  {
   "cell_type": "code",
   "execution_count": null,
   "id": "44d178da",
   "metadata": {},
   "outputs": [],
   "source": []
  }
 ],
 "metadata": {
  "kernelspec": {
   "display_name": "Python 3 (ipykernel)",
   "language": "python",
   "name": "python3"
  },
  "language_info": {
   "codemirror_mode": {
    "name": "ipython",
    "version": 3
   },
   "file_extension": ".py",
   "mimetype": "text/x-python",
   "name": "python",
   "nbconvert_exporter": "python",
   "pygments_lexer": "ipython3",
   "version": "3.10.13"
  }
 },
 "nbformat": 4,
 "nbformat_minor": 5
}
