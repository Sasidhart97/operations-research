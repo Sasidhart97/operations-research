{
 "cells": [
  {
   "cell_type": "code",
   "execution_count": 1,
   "id": "652ec733",
   "metadata": {},
   "outputs": [],
   "source": [
    "from ortools.linear_solver import pywraplp"
   ]
  },
  {
   "cell_type": "code",
   "execution_count": 2,
   "id": "708576e5",
   "metadata": {},
   "outputs": [],
   "source": [
    "solver = pywraplp.Solver.CreateSolver('CP_SAT')"
   ]
  },
  {
   "cell_type": "code",
   "execution_count": 5,
   "id": "7cc4fc46",
   "metadata": {},
   "outputs": [],
   "source": [
    "x1 = solver.NumVar(0, 100000, 'x1')\n",
    "x2 = solver.NumVar(0, 100000, 'x2')\n",
    "x3 = solver.NumVar(0, 100000, 'x3')\n",
    "u = solver.NumVar(0, 1000000, 'u')"
   ]
  },
  {
   "cell_type": "code",
   "execution_count": 6,
   "id": "0a01d7cb",
   "metadata": {},
   "outputs": [
    {
     "data": {
      "text/plain": [
       "<ortools.linear_solver.pywraplp.Constraint; proxy of <Swig Object of type 'operations_research::MPConstraint *' at 0x00000263D2397A20> >"
      ]
     },
     "execution_count": 6,
     "metadata": {},
     "output_type": "execute_result"
    }
   ],
   "source": [
    "solver.Add(x1+x2+x3 == 5)"
   ]
  },
  {
   "cell_type": "code",
   "execution_count": 8,
   "id": "b9018ebb",
   "metadata": {},
   "outputs": [
    {
     "data": {
      "text/plain": [
       "<ortools.linear_solver.pywraplp.Constraint; proxy of <Swig Object of type 'operations_research::MPConstraint *' at 0x00000263D3BF7BD0> >"
      ]
     },
     "execution_count": 8,
     "metadata": {},
     "output_type": "execute_result"
    }
   ],
   "source": [
    "solver.Add(u >= ((x1/7) + ((5-x1)/4)))\n",
    "solver.Add(u >= ((x2/8) + ((5-x2)/5)))\n",
    "solver.Add(u >= ((x3/10) + ((5-x3)/6)))"
   ]
  },
  {
   "cell_type": "code",
   "execution_count": 9,
   "id": "56e4827d",
   "metadata": {},
   "outputs": [
    {
     "data": {
      "text/plain": [
       "0"
      ]
     },
     "execution_count": 9,
     "metadata": {},
     "output_type": "execute_result"
    }
   ],
   "source": [
    "solver.Solve()"
   ]
  },
  {
   "cell_type": "code",
   "execution_count": 10,
   "id": "bed0ef3a",
   "metadata": {},
   "outputs": [
    {
     "data": {
      "text/plain": [
       "5.0"
      ]
     },
     "execution_count": 10,
     "metadata": {},
     "output_type": "execute_result"
    }
   ],
   "source": [
    "x1.solution_value()"
   ]
  },
  {
   "cell_type": "code",
   "execution_count": 11,
   "id": "3b8c3ad3",
   "metadata": {},
   "outputs": [
    {
     "data": {
      "text/plain": [
       "0.0"
      ]
     },
     "execution_count": 11,
     "metadata": {},
     "output_type": "execute_result"
    }
   ],
   "source": [
    "x2.solution_value()"
   ]
  },
  {
   "cell_type": "code",
   "execution_count": 12,
   "id": "57986b2b",
   "metadata": {},
   "outputs": [
    {
     "data": {
      "text/plain": [
       "0.0"
      ]
     },
     "execution_count": 12,
     "metadata": {},
     "output_type": "execute_result"
    }
   ],
   "source": [
    "x3.solution_value()"
   ]
  },
  {
   "cell_type": "code",
   "execution_count": null,
   "id": "98cee34a",
   "metadata": {},
   "outputs": [],
   "source": []
  }
 ],
 "metadata": {
  "kernelspec": {
   "display_name": "Python 3 (ipykernel)",
   "language": "python",
   "name": "python3"
  },
  "language_info": {
   "codemirror_mode": {
    "name": "ipython",
    "version": 3
   },
   "file_extension": ".py",
   "mimetype": "text/x-python",
   "name": "python",
   "nbconvert_exporter": "python",
   "pygments_lexer": "ipython3",
   "version": "3.10.13"
  }
 },
 "nbformat": 4,
 "nbformat_minor": 5
}
