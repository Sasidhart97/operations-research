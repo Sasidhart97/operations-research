{
 "cells": [
  {
   "cell_type": "code",
   "execution_count": 95,
   "id": "73d82acf",
   "metadata": {},
   "outputs": [],
   "source": [
    "from ortools.linear_solver import pywraplp\n",
    "import pandas as pd"
   ]
  },
  {
   "cell_type": "code",
   "execution_count": 96,
   "id": "42759707",
   "metadata": {},
   "outputs": [],
   "source": [
    "solver = pywraplp.Solver.CreateSolver('GLOP')"
   ]
  },
  {
   "cell_type": "code",
   "execution_count": 97,
   "id": "d7f72829",
   "metadata": {},
   "outputs": [],
   "source": [
    "x1 = solver.NumVar(0,100000, \"x1\")\n",
    "x2 = solver.NumVar(0,100000, \"x2\")\n",
    "x3 = solver.NumVar(0,100000, \"x3\")"
   ]
  },
  {
   "cell_type": "code",
   "execution_count": 98,
   "id": "fe77820f",
   "metadata": {},
   "outputs": [
    {
     "data": {
      "text/plain": [
       "<ortools.linear_solver.pywraplp.Constraint; proxy of <Swig Object of type 'operations_research::MPConstraint *' at 0x00000277E8776FD0> >"
      ]
     },
     "execution_count": 98,
     "metadata": {},
     "output_type": "execute_result"
    }
   ],
   "source": [
    "solver.Add(x1 + x2 + x3 <=3   , \"cons1\")\n",
    "solver.Add(x1 + 4*x2 + 7*x3 <= 9, \"cons2\")"
   ]
  },
  {
   "cell_type": "code",
   "execution_count": 99,
   "id": "0afb1609",
   "metadata": {},
   "outputs": [],
   "source": [
    "solver.Maximize(2*x1 + 3*x2 + x3)"
   ]
  },
  {
   "cell_type": "code",
   "execution_count": 100,
   "id": "e3e9d6db",
   "metadata": {},
   "outputs": [
    {
     "data": {
      "text/plain": [
       "0"
      ]
     },
     "execution_count": 100,
     "metadata": {},
     "output_type": "execute_result"
    }
   ],
   "source": [
    "solver.Solve()"
   ]
  },
  {
   "cell_type": "code",
   "execution_count": 101,
   "id": "faefc1c4",
   "metadata": {},
   "outputs": [
    {
     "name": "stdout",
     "output_type": "stream",
     "text": [
      "x1 =  0.999999999999999 \n",
      "x2 =  2.0000000000000004 \n",
      "x3 =  0.0 \n",
      " 8.0\n"
     ]
    }
   ],
   "source": [
    "if solver.Solve() == pywraplp.Solver.OPTIMAL:\n",
    "    print(\"x1 = \", x1.solution_value(), \"\\nx2 = \", x2.solution_value(), \"\\nx3 = \", x3.solution_value(), \n",
    "          \"\\n\",solver.Objective().Value())"
   ]
  },
  {
   "cell_type": "code",
   "execution_count": 102,
   "id": "6acb4d76",
   "metadata": {},
   "outputs": [
    {
     "name": "stdout",
     "output_type": "stream",
     "text": [
      "    Name  shadow price         slack\n",
      "0  cons1      1.666667  4.440892e-16\n",
      "1  cons2      0.333333  0.000000e+00\n"
     ]
    }
   ],
   "source": [
    "activities = solver.ComputeConstraintActivities()\n",
    "o = [{'Name':c.name(), 'shadow price':c.dual_value(), 'slack': c.ub() - activities[i]} for i, c in enumerate(solver.constraints())]\n",
    "print(pd.DataFrame(o))"
   ]
  },
  {
   "cell_type": "markdown",
   "id": "4e2402da",
   "metadata": {},
   "source": [
    "# Problem solved now let's begin sensitivity analysis"
   ]
  },
  {
   "cell_type": "code",
   "execution_count": 103,
   "id": "1b8b153b",
   "metadata": {},
   "outputs": [
    {
     "name": "stdout",
     "output_type": "stream",
     "text": [
      "0.999999999999999 2.0000000000000004 0.0\n",
      "0.999999999999999 2.0000000000000004 0.0\n",
      "0.999999999999999 2.0000000000000004 0.0\n",
      "1.9999999999999996 0.0 1.0000000000000002\n",
      "From price  5  x3 is profitable\n"
     ]
    }
   ],
   "source": [
    "# from which point product 3 production is profitable\n",
    "\n",
    "x3_coff_lower = 2\n",
    "x3_coff_upper = 10\n",
    "\n",
    "for i in range(x3_coff_lower, x3_coff_upper):\n",
    "    \n",
    "    solver.Maximize(2*x1 + 3*x2 + i*x3)\n",
    "    solver.Solve()\n",
    "    \n",
    "    if solver.Solve() == pywraplp.Solver.OPTIMAL:\n",
    "        print(x1.solution_value(), x2.solution_value(), x3.solution_value())\n",
    "        if round(x3.solution_value()) > 0:\n",
    "            print('From price ', i, ' x3 is profitable')\n",
    "            break"
   ]
  },
  {
   "cell_type": "markdown",
   "id": "ee8f7d6c",
   "metadata": {},
   "source": [
    "Unfortunately, OR-Tools' MPSolver interface doesn't directly support sensitivity analysis in its API. However, if you're using a solver backend that supports it (like Gurobi), you can leverage the backend's specific methods to get this information. If you specifically need sensitivity ranges within OR-Tools, you'd have to implement the analysis manually by perturbing the coefficients and resolving the model repeatedly."
   ]
  },
  {
   "cell_type": "code",
   "execution_count": 115,
   "id": "ff4c9026",
   "metadata": {},
   "outputs": [
    {
     "name": "stdout",
     "output_type": "stream",
     "text": [
      "Gurobi Optimizer version 11.0.3 build v11.0.3rc0 (win64 - Windows 11.0 (22631.2))\n",
      "\n",
      "CPU model: Intel(R) Core(TM) i7-8750H CPU @ 2.20GHz, instruction set [SSE2|AVX|AVX2]\n",
      "Thread count: 6 physical cores, 12 logical processors, using up to 12 threads\n",
      "\n",
      "Optimize a model with 6 rows, 3 columns and 12 nonzeros\n",
      "Model fingerprint: 0x562ff4f8\n",
      "Coefficient statistics:\n",
      "  Matrix range     [1e+00, 7e+00]\n",
      "  Objective range  [1e+00, 3e+00]\n",
      "  Bounds range     [0e+00, 0e+00]\n",
      "  RHS range        [3e+00, 1e+03]\n",
      "Presolve removed 4 rows and 0 columns\n",
      "Presolve time: 0.01s\n",
      "Presolved: 2 rows, 3 columns, 6 nonzeros\n",
      "\n",
      "Iteration    Objective       Primal Inf.    Dual Inf.      Time\n",
      "       0    9.0000000e+00   1.121750e+00   0.000000e+00      0s\n",
      "       2    8.0000000e+00   0.000000e+00   0.000000e+00      0s\n",
      "\n",
      "Solved in 2 iterations and 0.02 seconds (0.00 work units)\n",
      "Optimal objective  8.000000000e+00\n",
      "Variable x1 has optimal value 1.0\n",
      "  Coefficient sensitivity: [0.7499999999999998, 3.0]\n",
      "Variable x2 has optimal value 2.0\n",
      "  Coefficient sensitivity: [2.0, 8.000000000000002]\n",
      "Variable x3 has optimal value 0.0\n",
      "  Coefficient sensitivity: [-inf, 4.0]\n"
     ]
    }
   ],
   "source": [
    "import gurobipy as gp\n",
    "\n",
    "# Define your model with Gurobi directly\n",
    "model = gp.Model()\n",
    "\n",
    "# Add variables\n",
    "x1 = model.addVar(lb=0, name=\"x1\")\n",
    "x2 = model.addVar(lb=0, name=\"x2\")\n",
    "x3 = model.addVar(lb=0, name=\"x3\")\n",
    "\n",
    "# Add constraints\n",
    "model.addConstr(x1 + x2 + x3 <= 3, \"cons1\")\n",
    "model.addConstr(x1 + 4*x2 + 7*x3 <= 9, \"cons2\")\n",
    "model.addConstr(x1 + x2 + x3 <= 1000, \"dc\")\n",
    "model.addConstr(x1 >= 0, \"cons3\")\n",
    "model.addConstr(x2 >= 0, \"cons4\")\n",
    "model.addConstr(x3 >= 0, \"cons5\")\n",
    "\n",
    "# Set objective function\n",
    "model.setObjective(2*x1 + 3*x2 + x3, gp.GRB.MAXIMIZE)\n",
    "\n",
    "# Solve the model\n",
    "model.optimize()\n",
    "\n",
    "# Access the sensitivity analysis\n",
    "for var in model.getVars():\n",
    "    print(f\"Variable {var.varName} has optimal value {var.x}\")\n",
    "    print(f\"  Coefficient sensitivity: [{var.SAObjLow}, {var.SAObjUp}]\")\n"
   ]
  },
  {
   "cell_type": "code",
   "execution_count": 116,
   "id": "dde11712",
   "metadata": {},
   "outputs": [
    {
     "name": "stdout",
     "output_type": "stream",
     "text": [
      "cons1: 1.6666666666666667\n",
      "cons2: 0.3333333333333333\n",
      "dc: 0.0\n",
      "cons3: 0.0\n",
      "cons4: 0.0\n",
      "cons5: 0.0\n",
      "\n",
      "Slack Values:\n",
      "cons1: 0.0\n",
      "cons2: 0.0\n",
      "dc: 997.0\n",
      "cons3: -1.0\n",
      "cons4: -2.0\n",
      "cons5: -0.0\n",
      "Constraint cons1:\n",
      "  RHS lower bound: 2.25\n",
      "  RHS upper bound: 9.000000000000002\n",
      "Constraint cons2:\n",
      "  RHS lower bound: 3.0\n",
      "  RHS upper bound: 12.0\n",
      "Constraint dc:\n",
      "  RHS lower bound: 3.0\n",
      "  RHS upper bound: inf\n",
      "Constraint cons3:\n",
      "  RHS lower bound: -inf\n",
      "  RHS upper bound: 1.0\n",
      "Constraint cons4:\n",
      "  RHS lower bound: -inf\n",
      "  RHS upper bound: 2.0\n",
      "Constraint cons5:\n",
      "  RHS lower bound: -inf\n",
      "  RHS upper bound: 0.0\n"
     ]
    }
   ],
   "source": [
    "# Get shadow price\n",
    "for constr in model.getConstrs():\n",
    "    print(f\"{constr.constrName}: {constr.Pi}\")\n",
    "\n",
    "# Get slack values of the constraints\n",
    "print(\"\\nSlack Values:\")\n",
    "for constr in model.getConstrs():\n",
    "    print(f\"{constr.constrName}: {constr.Slack}\")\n",
    "    \n",
    "#Get range of rhs for constaraints to maintain optimality\n",
    "for constr in model.getConstrs():\n",
    "    print(f'Constraint {constr.ConstrName}:')\n",
    "    print(f'  RHS lower bound: {constr.SARHSLow}')\n",
    "    print(f'  RHS upper bound: {constr.SARHSUp}')"
   ]
  },
  {
   "cell_type": "code",
   "execution_count": null,
   "id": "04e9cbd1",
   "metadata": {},
   "outputs": [],
   "source": []
  }
 ],
 "metadata": {
  "kernelspec": {
   "display_name": "Python 3 (ipykernel)",
   "language": "python",
   "name": "python3"
  },
  "language_info": {
   "codemirror_mode": {
    "name": "ipython",
    "version": 3
   },
   "file_extension": ".py",
   "mimetype": "text/x-python",
   "name": "python",
   "nbconvert_exporter": "python",
   "pygments_lexer": "ipython3",
   "version": "3.10.13"
  }
 },
 "nbformat": 4,
 "nbformat_minor": 5
}
