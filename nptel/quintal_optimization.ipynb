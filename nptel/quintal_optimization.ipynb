{
 "cells": [
  {
   "cell_type": "code",
   "execution_count": 84,
   "id": "192d2d13",
   "metadata": {},
   "outputs": [],
   "source": [
    "from ortools.linear_solver import pywraplp"
   ]
  },
  {
   "cell_type": "code",
   "execution_count": 96,
   "id": "1b875f2e",
   "metadata": {},
   "outputs": [],
   "source": [
    "solver = pywraplp.Solver.CreateSolver('CP_SAT')"
   ]
  },
  {
   "cell_type": "code",
   "execution_count": 97,
   "id": "d1d4b189",
   "metadata": {},
   "outputs": [],
   "source": [
    "import pandas as pd"
   ]
  },
  {
   "cell_type": "code",
   "execution_count": 98,
   "id": "693de25e",
   "metadata": {},
   "outputs": [],
   "source": [
    "df = pd.read_excel(\"quint_d.xlsx\")"
   ]
  },
  {
   "cell_type": "code",
   "execution_count": 99,
   "id": "c2522b0a",
   "metadata": {},
   "outputs": [
    {
     "data": {
      "text/html": [
       "<div>\n",
       "<style scoped>\n",
       "    .dataframe tbody tr th:only-of-type {\n",
       "        vertical-align: middle;\n",
       "    }\n",
       "\n",
       "    .dataframe tbody tr th {\n",
       "        vertical-align: top;\n",
       "    }\n",
       "\n",
       "    .dataframe thead th {\n",
       "        text-align: right;\n",
       "    }\n",
       "</style>\n",
       "<table border=\"1\" class=\"dataframe\">\n",
       "  <thead>\n",
       "    <tr style=\"text-align: right;\">\n",
       "      <th></th>\n",
       "      <th>source</th>\n",
       "      <th>0</th>\n",
       "      <th>1</th>\n",
       "      <th>2</th>\n",
       "      <th>3</th>\n",
       "    </tr>\n",
       "  </thead>\n",
       "  <tbody>\n",
       "    <tr>\n",
       "      <th>0</th>\n",
       "      <td>0</td>\n",
       "      <td>1</td>\n",
       "      <td>4</td>\n",
       "      <td>7</td>\n",
       "      <td>3</td>\n",
       "    </tr>\n",
       "    <tr>\n",
       "      <th>1</th>\n",
       "      <td>1</td>\n",
       "      <td>7</td>\n",
       "      <td>2</td>\n",
       "      <td>4</td>\n",
       "      <td>7</td>\n",
       "    </tr>\n",
       "    <tr>\n",
       "      <th>2</th>\n",
       "      <td>2</td>\n",
       "      <td>4</td>\n",
       "      <td>8</td>\n",
       "      <td>2</td>\n",
       "      <td>2</td>\n",
       "    </tr>\n",
       "  </tbody>\n",
       "</table>\n",
       "</div>"
      ],
      "text/plain": [
       "   source  0  1  2  3\n",
       "0       0  1  4  7  3\n",
       "1       1  7  2  4  7\n",
       "2       2  4  8  2  2"
      ]
     },
     "execution_count": 99,
     "metadata": {},
     "output_type": "execute_result"
    }
   ],
   "source": [
    "df"
   ]
  },
  {
   "cell_type": "code",
   "execution_count": 100,
   "id": "7881aeec",
   "metadata": {},
   "outputs": [],
   "source": [
    "x={}\n",
    "\n",
    "for i in list(df.index):\n",
    "    for j in df.columns[1:]:\n",
    "        x[(i,j)] = solver.NumVar(0, 100, 'x_%i_%i'%(i,j))"
   ]
  },
  {
   "cell_type": "code",
   "execution_count": 101,
   "id": "ca84b4b8",
   "metadata": {},
   "outputs": [],
   "source": [
    "sup = [7,9,2]\n",
    "for i in list(df.index):\n",
    "    solver.Add(sum(x[(i,j)] for j in df.columns[1:]) <= sup[i])"
   ]
  },
  {
   "cell_type": "code",
   "execution_count": 102,
   "id": "bc91c085",
   "metadata": {},
   "outputs": [],
   "source": [
    "dem = [8,4,6,1]\n",
    "\n",
    "\n",
    "req ={}\n",
    "for j in df.columns[1:]:\n",
    "    req[j] = solver.NumVar(0, 100, 'req_%i' % (j))\n",
    "    solver.Add(req[j] == dem[j] - sum(x[(i,j)] for i in list(df.index)))"
   ]
  },
  {
   "cell_type": "code",
   "execution_count": 126,
   "id": "c36b03c0",
   "metadata": {},
   "outputs": [],
   "source": [
    "solver.Minimize(1000*sum(req[j] for j in df.columns[1:]) + \n",
    "                200*sum(x[(i,j)]*df[j][i] for i in list(df.index) for j in df.columns[1:])\n",
    "               )"
   ]
  },
  {
   "cell_type": "code",
   "execution_count": 127,
   "id": "3fae7585",
   "metadata": {},
   "outputs": [
    {
     "data": {
      "text/plain": [
       "True"
      ]
     },
     "execution_count": 127,
     "metadata": {},
     "output_type": "execute_result"
    }
   ],
   "source": [
    "solver.Solve()==pywraplp.Solver.OPTIMAL"
   ]
  },
  {
   "cell_type": "code",
   "execution_count": 128,
   "id": "8a86b51b",
   "metadata": {},
   "outputs": [
    {
     "name": "stdout",
     "output_type": "stream",
     "text": [
      "from city  0 supply is 7  to city  0  value =  7.0 cost is  1 demand is  8\n",
      "from city  0 supply is 7  to city  1  value =  0.0 cost is  4 demand is  4\n",
      "from city  0 supply is 7  to city  2  value =  0.0 cost is  7 demand is  6\n",
      "from city  0 supply is 7  to city  3  value =  0.0 cost is  3 demand is  1\n",
      "from city  1 supply is 9  to city  0  value =  0.0 cost is  7 demand is  8\n",
      "from city  1 supply is 9  to city  1  value =  4.0 cost is  2 demand is  4\n",
      "from city  1 supply is 9  to city  2  value =  5.0 cost is  4 demand is  6\n",
      "from city  1 supply is 9  to city  3  value =  0.0 cost is  7 demand is  1\n",
      "from city  2 supply is 2  to city  0  value =  0.0 cost is  4 demand is  8\n",
      "from city  2 supply is 2  to city  1  value =  0.0 cost is  8 demand is  4\n",
      "from city  2 supply is 2  to city  2  value =  1.0 cost is  2 demand is  6\n",
      "from city  2 supply is 2  to city  3  value =  1.0 cost is  2 demand is  1\n"
     ]
    }
   ],
   "source": [
    "for i in list(df.index):\n",
    "    for j in df.columns[1:]:\n",
    "        print(\"from city \", i, \"supply is\", sup[i], \" to city \", j, \" value = \", x[(i,j)].solution_value(), \"cost is \", df[j][i], \"demand is \", dem[j])"
   ]
  },
  {
   "cell_type": "code",
   "execution_count": null,
   "id": "46c5777c",
   "metadata": {},
   "outputs": [],
   "source": []
  }
 ],
 "metadata": {
  "kernelspec": {
   "display_name": "Python 3 (ipykernel)",
   "language": "python",
   "name": "python3"
  },
  "language_info": {
   "codemirror_mode": {
    "name": "ipython",
    "version": 3
   },
   "file_extension": ".py",
   "mimetype": "text/x-python",
   "name": "python",
   "nbconvert_exporter": "python",
   "pygments_lexer": "ipython3",
   "version": "3.10.13"
  }
 },
 "nbformat": 4,
 "nbformat_minor": 5
}
